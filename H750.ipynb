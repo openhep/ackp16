{
 "cells": [
  {
   "cell_type": "markdown",
   "metadata": {},
   "source": [
    "<center><b><font size=\"5\">H(750) decays to gauge boson pairs</font></b></center>"
   ]
  },
  {
   "cell_type": "markdown",
   "metadata": {
    "heading_collapsed": true
   },
   "source": [
    "## Intro and definitions"
   ]
  },
  {
   "cell_type": "markdown",
   "metadata": {
    "heading_collapsed": true,
    "hidden": true
   },
   "source": [
    "### Packages and constants"
   ]
  },
  {
   "cell_type": "code",
   "execution_count": 1,
   "metadata": {
    "collapsed": false,
    "hidden": true
   },
   "outputs": [],
   "source": [
    "%matplotlib inline\n",
    "import matplotlib.pyplot as plt\n",
    "import matplotlib.ticker as ticker\n",
    "import numpy as np\n",
    "import math\n",
    "from sympy import *\n",
    "from scipy.optimize import root, brentq\n",
    "from sympy.abc import tau, sigma, x, D, T, Q, Y, N\n",
    "T3, sigmaprime = symbols('T3, sigmaprime')"
   ]
  },
  {
   "cell_type": "code",
   "execution_count": 2,
   "metadata": {
    "collapsed": false,
    "hidden": true
   },
   "outputs": [],
   "source": [
    "# local packages\n",
    "from plothelp import label_line\n",
    "import smgroup\n",
    "from constants import *\n",
    "smgroup.GUTU1 = False  # we don't work here with GUT-unified value for alpha_1"
   ]
  },
  {
   "cell_type": "markdown",
   "metadata": {
    "heading_collapsed": true,
    "hidden": true
   },
   "source": [
    "### One-loop decays to pairs of gauge bosons"
   ]
  },
  {
   "cell_type": "markdown",
   "metadata": {
    "heading_collapsed": true,
    "hidden": true
   },
   "source": [
    "#### Factors different for different VV channels"
   ]
  },
  {
   "cell_type": "code",
   "execution_count": 3,
   "metadata": {
    "collapsed": true,
    "hidden": true
   },
   "outputs": [],
   "source": [
    "def VVfact(S1, S2, S3):\n",
    "    \"\"\"Factors for loop decays to VV channels.\n",
    "    Phase space factors for identical particles accounted for here.\n",
    "    \n",
    "    \"\"\"\n",
    "    gg = S1 + S2\n",
    "    GG = (2*S3)*(alphas/alpha)*sqrt(Kfactor)\n",
    "    ZZ = (cw2/sw2)*S2 + (sw2/cw2)*S1\n",
    "    Zg = sqrt(2)*( (cw/sw)*S2 - (sw/cw)*S1 )\n",
    "    WW = sqrt(2) * S2 / sw2\n",
    "    return {'gg':gg, 'GG':GG, 'ZZ':ZZ, 'Zg':Zg, 'WW':WW}\n",
    "\n",
    "\n",
    "def VVfactW(D=7, Y=0, real=True, wght=False):\n",
    "    \"\"\"Factors for loop decays to VV channels.\n",
    "    Phase space factors for identical particles accounted for here.\n",
    "    \n",
    "    wght --- T3-weight factor entering sum over multiplet\n",
    "    \n",
    "    \"\"\"\n",
    "    r, wNC, wCC = (1, 1, 1)\n",
    "    if real:\n",
    "        r = 2\n",
    "    if wght:\n",
    "        # Weights for CKP model quintuplet scalars which don't\n",
    "        # couple universally to H\n",
    "        wNC = (2-T3)/4\n",
    "        wCC = (3-2*T3)/8  # average of (2-T3)/4 and (1-T3)/4\n",
    "    T = (D-S(1))/2  # weak isospin\n",
    "    gg = summation((wNC*Q**2).subs(Q,T3+Y/2).evalf(), (T3, -T, T))/r\n",
    "    GG = 0\n",
    "    ZZ = summation((wNC*(T3-sw2*Q)**2).subs(Q,T3+Y/2).evalf(), (T3, -T, T))/sw2/cw2/r\n",
    "    Zg = sqrt(2)*summation((wNC*Q*(T3-sw2*Q)).subs(Q,T3+Y/2).evalf(), (T3, -T, T))/sw/cw/r\n",
    "    WW = sqrt(2) * summation((wCC*(T-T3)*(T+T3+1)/2).evalf(), (T3, -T, T))/sw2/r\n",
    "    return {'gg':gg, 'GG':GG, 'ZZ':ZZ, 'Zg':Zg, 'WW':WW}"
   ]
  },
  {
   "cell_type": "code",
   "execution_count": 4,
   "metadata": {
    "collapsed": false,
    "hidden": true
   },
   "outputs": [],
   "source": [
    "def Rtogg(reps, prt=False):\n",
    "    \"\"\"Ratios of VV to gamma-gamma channels.\"\"\"\n",
    "    VVs = VVfact(*smgroup.SMDynkin(reps))\n",
    "    gg = VVs['gg']\n",
    "    RGG = float((VVs['GG']/gg)**2)\n",
    "    RZg = float((VVs['Zg']/gg)**2)\n",
    "    RZZ = float((VVs['ZZ']/gg)**2)\n",
    "    RWW = float((VVs['WW']/gg)**2)\n",
    "    if prt:\n",
    "        print(\"RGG = {:.3f}, RZg = {:.3f},  RZZ = {:.3f},   RWW  = {:.3f}\".format(RGG,\n",
    "            RZg, RZZ , RWW)  )\n",
    "    return RGG, RZg, RZZ, RWW\n",
    "    \n",
    "def RtoggW(D=7, Y=0, real=True, wght=False, prt=False):\n",
    "    \"\"\"Ratios of VV to gamma-gamma channels if T3-weights are needed.\"\"\"\n",
    "    VVs = VVfactW(D, Y, real, wght)\n",
    "    gg = VVs['gg']\n",
    "    RGG = float((VVs['GG']/gg)**2)\n",
    "    RZg = float((VVs['Zg']/gg)**2)\n",
    "    RZZ = float((VVs['ZZ']/gg)**2)\n",
    "    RWW = float((VVs['WW']/gg)**2)\n",
    "    if prt:\n",
    "        print(\"RGG = {:.3f}, RZg = {:.3f},  RZZ = {:.3f},   RWW  = {:.3f}\".format(RGG,\n",
    "            RZg, RZZ , RWW)  )\n",
    "    return RGG, RZg, RZZ, RWW"
   ]
  },
  {
   "cell_type": "code",
   "execution_count": 5,
   "metadata": {
    "collapsed": false,
    "hidden": true
   },
   "outputs": [
    {
     "name": "stdout",
     "output_type": "stream",
     "text": [
      "RGG = 0.000, RZg = 6.547,  RZZ = 10.716,   RWW  = 36.526\n",
      "RGG = 0.000, RZg = 6.547,  RZZ = 10.716,   RWW  = 36.526\n"
     ]
    }
   ],
   "source": [
    "# Check of consistency of two formulas\n",
    "res = Rtogg([smgroup.RealScalar(1,7,0)], prt=True)\n",
    "res = RtoggW(D=7, Y=0, real=True, prt=True)"
   ]
  },
  {
   "cell_type": "code",
   "execution_count": 6,
   "metadata": {
    "collapsed": false,
    "hidden": true
   },
   "outputs": [
    {
     "name": "stdout",
     "output_type": "stream",
     "text": [
      "RGG = 0.000, RZg = 4.785,  RZZ = 8.666,   RWW  = 28.860\n",
      "RGG = 0.000, RZg = 4.785,  RZZ = 8.666,   RWW  = 28.860\n"
     ]
    }
   ],
   "source": [
    "res = Rtogg([smgroup.ComplexScalar(1,5,-1)], prt=True)\n",
    "res = RtoggW(D=5, Y=-1, real=False, prt=True)"
   ]
  },
  {
   "cell_type": "markdown",
   "metadata": {
    "hidden": true
   },
   "source": [
    "Note that first set is consistent with table  below Fig. 4 of Strumia's [arXiv:1605.09401](http://www.arXiv.org/pdf/1605.09401), which has RZg=7, RZZ=12, RWW=40. We can reproduce second row of his table with some SU(2) singlet:"
   ]
  },
  {
   "cell_type": "code",
   "execution_count": 7,
   "metadata": {
    "collapsed": false,
    "hidden": true
   },
   "outputs": [
    {
     "name": "stdout",
     "output_type": "stream",
     "text": [
      "RGG = 0.000, RZg = 0.611,  RZZ = 0.093,   RWW  = 0.000\n",
      "RGG = 0.000, RZg = 0.611,  RZZ = 0.093,   RWW  = 0.000\n"
     ]
    }
   ],
   "source": [
    "res = Rtogg([smgroup.ComplexScalar(1,1,-1)], prt=True)\n",
    "res = RtoggW(D=1, Y=-1, real=False, prt=True)"
   ]
  },
  {
   "cell_type": "markdown",
   "metadata": {
    "heading_collapsed": true,
    "hidden": true
   },
   "source": [
    "#### Final expression for $H\\to VV$ width"
   ]
  },
  {
   "cell_type": "markdown",
   "metadata": {
    "hidden": true
   },
   "source": [
    "$$\\Gamma(h\\to\\gamma\\gamma) = B \\left|\\sum_i Q_i^2 A_{i}(\\tau_i) \\right|^2$$\n",
    "$$ B = \\frac{\\alpha^2 g^2 m_h^3}{1024 \\pi^3 m_W^2} = \\frac{G_F \\alpha^2 m_h^3}{\n",
    "128\\sqrt{2} \\pi^3}$$\n",
    "$$\\tau_i = \\frac{4m_i^2}{m_{H}^2} $$\n",
    "$$A_{0}(\\tau) = -\\tau(1-\\tau f(\\tau)) \\to \\frac{1}{3}  \\quad \\text{for} \\quad \\tau\\to\\infty$$\n",
    "$$A_{1/2}(\\tau) = 2\\tau\\big(1+(1-\\tau)f(\\tau)\\big) = 2 + (4 m^2 -m_{H}^2)C_0(0,0,m_{H}^2,m^2,m^2,m^2)$$\n",
    "$$f(\\tau) = \\arcsin^2(\\sqrt{\\frac{1}{\\tau}})  \\quad \\text{for} \\quad \\tau\\ge 1$$\n",
    "$$f(\\tau) = -\\frac{m_H^2}{2} C_0 (0,0,m_H^2; m, m, m) $$"
   ]
  },
  {
   "cell_type": "code",
   "execution_count": 8,
   "metadata": {
    "collapsed": true,
    "hidden": true
   },
   "outputs": [],
   "source": [
    "# Loop functions\n",
    "\n",
    "def f(tau):\n",
    "    return asin(1/sqrt(tau))**2\n",
    "\n",
    "def A0(tau):\n",
    "    return -tau*(1-tau*f(tau))\n",
    "\n",
    "def A1(tau):\n",
    "    return -2-3*tau-3*tau*(2-tau)*f(tau)\n",
    "\n",
    "def A12(tau):\n",
    "    return 2*tau*(1+(1-tau)*f(tau))"
   ]
  },
  {
   "cell_type": "code",
   "execution_count": 9,
   "metadata": {
    "collapsed": false,
    "hidden": true
   },
   "outputs": [],
   "source": [
    "# numpy-approved versions\n",
    "fN = lambdify(x, f(x), 'numpy')\n",
    "A0N = lambdify(x, A0(x), 'numpy')\n",
    "A1N = lambdify(x, A1(x), 'numpy')\n",
    "A12N = lambdify(x, A12(x), 'numpy')\n",
    "\n",
    "def tauN(m, mH=750):\n",
    "    return 4*m**2/mH**2"
   ]
  },
  {
   "cell_type": "code",
   "execution_count": 10,
   "metadata": {
    "collapsed": false,
    "hidden": true
   },
   "outputs": [
    {
     "name": "stdout",
     "output_type": "stream",
     "text": [
      " A0 --> 1/3\n",
      "A12 --> 4/3\n",
      " A1 --> -7\n"
     ]
    }
   ],
   "source": [
    "print(\" A0 --> {}\".format(limit(A0(tau), tau, oo)))\n",
    "print(\"A12 --> {}\".format(limit(A12(tau), tau, oo)))\n",
    "print(\" A1 --> {}\".format(limit(A1(tau), tau, oo)))"
   ]
  },
  {
   "cell_type": "code",
   "execution_count": 11,
   "metadata": {
    "collapsed": false,
    "hidden": true
   },
   "outputs": [
    {
     "data": {
      "text/plain": [
       "0.0280388592343634"
      ]
     },
     "execution_count": 11,
     "metadata": {},
     "output_type": "execute_result"
    }
   ],
   "source": [
    "# Numerical check of the relation of C0 and f(tau):\n",
    "# LoopTools for mH=125, m=375\n",
    "# fLT = 0.028038859\n",
    "f(4*375**2/125**2)"
   ]
  },
  {
   "cell_type": "markdown",
   "metadata": {
    "hidden": true
   },
   "source": [
    "SM $h(125)\\to\\gamma\\gamma$ width in GeV (just W and top contributions)"
   ]
  },
  {
   "cell_type": "code",
   "execution_count": 12,
   "metadata": {
    "collapsed": false,
    "hidden": true
   },
   "outputs": [
    {
     "data": {
      "text/plain": [
       "1.00329023145110e-5"
      ]
     },
     "execution_count": 12,
     "metadata": {},
     "output_type": "execute_result"
    }
   ],
   "source": [
    "Bh = (GF * alpha**2 * mh**3)/(128 * sqrt(2) * pi**3).evalf()\n",
    "Bh * (A1N(tauN(mW,mh)) + 3*(2/3)**2*A12N(tauN(mt,mh)))**2"
   ]
  },
  {
   "cell_type": "markdown",
   "metadata": {
    "hidden": true
   },
   "source": [
    "This is about right. (2HDMC gives 8.3e-6 GeV). "
   ]
  },
  {
   "cell_type": "markdown",
   "metadata": {
    "hidden": true
   },
   "source": [
    "Now we define $H\\to VV$ decay widths expressions for generic BSM and for ČKP model."
   ]
  },
  {
   "cell_type": "code",
   "execution_count": 13,
   "metadata": {
    "collapsed": false,
    "hidden": true
   },
   "outputs": [],
   "source": [
    "def GAMHVV(VV='gg', \n",
    "           BSMfermions=[], BSMscalars=[], gHFF=v, mF=400, gHSS=v, mS=400):\n",
    "    \"\"\"Decay width of scalar H to pair of gauge bosons (generic model)\"\"\"\n",
    "    B = float((alpha**2 * mH**3)/(1024 * pi**3).evalf())\n",
    "    VVf = VVfact(*smgroup.SMDynkin(BSMfermions))[VV]\n",
    "    VVs = VVfact(*smgroup.SMDynkin(BSMscalars))[VV]\n",
    "    amp = - (2*gHFF/mF)*VVf*A12N(tauN(mF))\n",
    "    amp += - (gHSS/mS**2)*VVs*A0N(tauN(mS))\n",
    "    return B * amp**2"
   ]
  },
  {
   "cell_type": "code",
   "execution_count": 14,
   "metadata": {
    "collapsed": false,
    "hidden": true
   },
   "outputs": [],
   "source": [
    "def GAMHckp(VV='gg', tau=1, sig=1, sigpri=1, mchi=400, mphi=400):\n",
    "    \"\"\"Decay width of scalar H to pair of gauge bosons (CKP model)\"\"\"\n",
    "    B = float((alpha**2 * mH**3)/(1024 * pi**3).evalf())\n",
    "    VVtau = VVfactW(D=7, Y=0, real=True)[VV]\n",
    "    VVsig = VVfactW(D=5, Y=-2, real=False)[VV]\n",
    "    VVsigpri = VVfactW(D=5, Y=-2, real=False, wght=True)[VV]\n",
    "    amp = tau*v*VVtau/mchi**2 * A0N(tauN(mchi))\n",
    "    amp += (sig*v*VVsig/mphi**2 + sigpri*v*VVsigpri/mphi**2) * A0N(tauN(mphi))\n",
    "    return B * amp**2"
   ]
  },
  {
   "cell_type": "code",
   "execution_count": 15,
   "metadata": {
    "collapsed": false,
    "hidden": true
   },
   "outputs": [
    {
     "data": {
      "text/plain": [
       "(0.00198329071986041, 0.0353740237419684)"
      ]
     },
     "execution_count": 15,
     "metadata": {},
     "output_type": "execute_result"
    }
   ],
   "source": [
    "GAMHckp('gg'), GAMHckp('WW')"
   ]
  },
  {
   "cell_type": "markdown",
   "metadata": {
    "hidden": true
   },
   "source": [
    "These numbers agree with my older notebook used for initial plots. Another check: CKP model widths with $\\sigma'=0$ (i.e. septuplet plus universal quintuplet contributions) can also be calculated with generic function ``GAMHVV``."
   ]
  },
  {
   "cell_type": "code",
   "execution_count": 16,
   "metadata": {
    "collapsed": false,
    "hidden": true
   },
   "outputs": [
    {
     "data": {
      "text/plain": [
       "[0.000968470022007610,\n",
       " 0.00380749333876153,\n",
       " 0.00738691723814960,\n",
       " 0.0242276310052007]"
      ]
     },
     "execution_count": 16,
     "metadata": {},
     "output_type": "execute_result"
    }
   ],
   "source": [
    "[GAMHckp(VV, sigpri=0) for VV in ['gg', 'Zg', 'ZZ', 'WW']]"
   ]
  },
  {
   "cell_type": "code",
   "execution_count": 17,
   "metadata": {
    "collapsed": false,
    "hidden": true
   },
   "outputs": [
    {
     "data": {
      "text/plain": [
       "[0.000968470022007610,\n",
       " 0.00380749333876153,\n",
       " 0.00738691723814960,\n",
       " 0.0242276310052007]"
      ]
     },
     "execution_count": 17,
     "metadata": {},
     "output_type": "execute_result"
    }
   ],
   "source": [
    "[GAMHVV(VV, BSMscalars=[smgroup.RealScalar(1,7,0), smgroup.ComplexScalar(1,5,-2)], gHSS=v) for VV in ['gg', 'Zg', 'ZZ', 'WW']]"
   ]
  },
  {
   "cell_type": "markdown",
   "metadata": {
    "heading_collapsed": true
   },
   "source": [
    "## Models"
   ]
  },
  {
   "cell_type": "markdown",
   "metadata": {
    "heading_collapsed": true,
    "hidden": true
   },
   "source": [
    "### (For check) Bhupal Dev et al. [1512.08507] [1512.06028](http://arxiv.org/pdf/1512.08507)"
   ]
  },
  {
   "cell_type": "code",
   "execution_count": 18,
   "metadata": {
    "collapsed": false,
    "hidden": true
   },
   "outputs": [
    {
     "data": {
      "text/plain": [
       "(184.03211250000004, 0.6109660574412531, 0.09331988083632721, 0.0)"
      ]
     },
     "execution_count": 18,
     "metadata": {},
     "output_type": "execute_result"
    }
   ],
   "source": [
    "bdrep = [smgroup.Dirac(3,1,S(4)/3), smgroup.Dirac(3,1,-S(2)/3), smgroup.Dirac(1,1,-2)]\n",
    "Rtogg(bdrep)"
   ]
  },
  {
   "cell_type": "markdown",
   "metadata": {
    "hidden": true
   },
   "source": [
    "This is in good agreement with their Table 1:\n",
    "RGG = 220, RZg = 0.61, RZZ = 0.091"
   ]
  },
  {
   "cell_type": "markdown",
   "metadata": {
    "hidden": true
   },
   "source": [
    "Let's also check decay width formula (again in ratios only)"
   ]
  },
  {
   "cell_type": "code",
   "execution_count": 19,
   "metadata": {
    "collapsed": false,
    "hidden": true
   },
   "outputs": [
    {
     "data": {
      "text/plain": [
       "184.032112500000"
      ]
     },
     "execution_count": 19,
     "metadata": {},
     "output_type": "execute_result"
    }
   ],
   "source": [
    "# RGG\n",
    "GAMHVV('GG', BSMfermions=bdrep, gHFF=246, mF=400)/GAMHVV(BSMfermions=bdrep, gHFF=246, mF=400)"
   ]
  },
  {
   "cell_type": "code",
   "execution_count": 20,
   "metadata": {
    "collapsed": false,
    "hidden": true
   },
   "outputs": [
    {
     "data": {
      "text/plain": [
       "0.610966057441253"
      ]
     },
     "execution_count": 20,
     "metadata": {},
     "output_type": "execute_result"
    }
   ],
   "source": [
    "# RZg\n",
    "GAMHVV('Zg', BSMfermions=bdrep, gHFF=246, mF=400)/GAMHVV(BSMfermions=bdrep, gHFF=246, mF=400)"
   ]
  },
  {
   "cell_type": "code",
   "execution_count": 21,
   "metadata": {
    "collapsed": false,
    "hidden": true
   },
   "outputs": [
    {
     "data": {
      "text/plain": [
       "0.0933198808363272"
      ]
     },
     "execution_count": 21,
     "metadata": {},
     "output_type": "execute_result"
    }
   ],
   "source": [
    "# RZZ\n",
    "GAMHVV('ZZ', BSMfermions=bdrep, gHFF=246, mF=400)/GAMHVV(BSMfermions=bdrep, gHFF=246, mF=400)"
   ]
  },
  {
   "cell_type": "code",
   "execution_count": 22,
   "metadata": {
    "collapsed": false,
    "hidden": true
   },
   "outputs": [
    {
     "data": {
      "text/plain": [
       "0"
      ]
     },
     "execution_count": 22,
     "metadata": {},
     "output_type": "execute_result"
    }
   ],
   "source": [
    "# RWW\n",
    "GAMHVV('WW', BSMfermions=bdrep, gHFF=246, mF=400)/GAMHVV(BSMfermions=bdrep, gHFF=246, mF=400)"
   ]
  },
  {
   "cell_type": "markdown",
   "metadata": {
    "heading_collapsed": true,
    "hidden": true
   },
   "source": [
    "### (For check) Elllis and Ellis et al. [1512.05327](http://arxiv.org/pdf/1512.05327)"
   ]
  },
  {
   "cell_type": "code",
   "execution_count": 23,
   "metadata": {
    "collapsed": false,
    "hidden": true
   },
   "outputs": [
    {
     "data": {
      "text/plain": [
       "(184.03211250000004, 0.6109660574412531, 0.09331988083632721, 0.0)"
      ]
     },
     "execution_count": 23,
     "metadata": {},
     "output_type": "execute_result"
    }
   ],
   "source": [
    "# Model 1 \n",
    "Rtogg([smgroup.Dirac(3,1,S(4)/3), smgroup.Dirac(3,1,-S(4)/3)])"
   ]
  },
  {
   "cell_type": "code",
   "execution_count": 24,
   "metadata": {
    "collapsed": false,
    "hidden": true
   },
   "outputs": [
    {
     "data": {
      "text/plain": [
       "0.6109660574412533"
      ]
     },
     "execution_count": 24,
     "metadata": {},
     "output_type": "execute_result"
    }
   ],
   "source": [
    "# Zg above agrees with Eq. (32) of 1512.07616\n",
    "2*sw2/cw2"
   ]
  },
  {
   "cell_type": "code",
   "execution_count": 25,
   "metadata": {
    "collapsed": false,
    "hidden": true
   },
   "outputs": [
    {
     "data": {
      "text/plain": [
       "(471.12220800000006, 4.949186583651335, 8.860755684015464, 29.585798816568047)"
      ]
     },
     "execution_count": 25,
     "metadata": {},
     "output_type": "execute_result"
    }
   ],
   "source": [
    "# Model 2 \n",
    "Rtogg([smgroup.Dirac(3,2,S(1)/3), smgroup.Dirac(3,2,-S(1)/3)])"
   ]
  },
  {
   "cell_type": "code",
   "execution_count": 26,
   "metadata": {
    "collapsed": false,
    "hidden": true
   },
   "outputs": [
    {
     "data": {
      "text/plain": [
       "(471.12220800000006, 0.5205864631452098, 2.693184885254764, 7.396449704142012)"
      ]
     },
     "execution_count": 26,
     "metadata": {},
     "output_type": "execute_result"
    }
   ],
   "source": [
    "# Model 3 \n",
    "Rtogg([smgroup.Dirac(3,1,S(4)/3), smgroup.Dirac(3,1,-S(4)/3), smgroup.Dirac(3,2,S(1)/3), smgroup.Dirac(3,2,-S(1)/3), smgroup.Dirac(3,1,-S(2)/3), smgroup.Dirac(3,1,S(2)/3)])"
   ]
  },
  {
   "cell_type": "markdown",
   "metadata": {
    "hidden": true
   },
   "source": [
    "They have e.g. for the Model 3:\n",
    "RGG = 460, RZg = 1.1,  RZZ = 2.8,   RWW  = 15."
   ]
  },
  {
   "cell_type": "markdown",
   "metadata": {
    "hidden": true
   },
   "source": [
    "So, their RZg and RWW look **factor 2 too large**."
   ]
  },
  {
   "cell_type": "markdown",
   "metadata": {
    "heading_collapsed": true,
    "hidden": true
   },
   "source": [
    "### (For check) Benbrik et al. [1512.06028](http://arxiv.org/pdf/1512.06028v3)"
   ]
  },
  {
   "cell_type": "code",
   "execution_count": 27,
   "metadata": {
    "collapsed": false,
    "hidden": true
   },
   "outputs": [
    {
     "data": {
      "text/plain": [
       "(40.754516262975784, 2.484579177180838, 5.762673183206281, 18.19964556190268)"
      ]
     },
     "execution_count": 27,
     "metadata": {},
     "output_type": "execute_result"
    }
   ],
   "source": [
    "# VLTQ model of Benbrik and al.\n",
    "Rtogg([smgroup.Dirac(3,3,S(4)/3), smgroup.Dirac(3,3,-S(2)/3)])"
   ]
  },
  {
   "cell_type": "markdown",
   "metadata": {
    "hidden": true
   },
   "source": [
    "Benbrink at al have:\n",
    "RGG = 40, RZg = 2.29,  RZZ = 5.59,   RWW  = 8.88"
   ]
  },
  {
   "cell_type": "markdown",
   "metadata": {
    "hidden": true
   },
   "source": [
    "So their RWW looks **factor 2 too small**."
   ]
  },
  {
   "cell_type": "markdown",
   "metadata": {
    "heading_collapsed": true,
    "hidden": true
   },
   "source": [
    "### \"Our\" one-loop  (BPR) model"
   ]
  },
  {
   "cell_type": "markdown",
   "metadata": {
    "hidden": true
   },
   "source": [
    "For the purposes of couplings to H(750) and gauge bosons, we have **one Dirac doublet** (times the number of generations, of course)"
   ]
  },
  {
   "cell_type": "code",
   "execution_count": 28,
   "metadata": {
    "collapsed": false,
    "hidden": true
   },
   "outputs": [
    {
     "data": {
      "text/plain": [
       "(1/2, 1/2, 0)"
      ]
     },
     "execution_count": 28,
     "metadata": {},
     "output_type": "execute_result"
    }
   ],
   "source": [
    "bpr = [smgroup.Dirac(1,2,-1)]\n",
    "smgroup.SMDynkin(bpr)"
   ]
  },
  {
   "cell_type": "code",
   "execution_count": 29,
   "metadata": {
    "collapsed": false,
    "hidden": true
   },
   "outputs": [
    {
     "name": "stdout",
     "output_type": "stream",
     "text": [
      "RGG = 0.000, RZg = 0.789,  RZZ = 3.202,   RWW  = 9.131\n"
     ]
    }
   ],
   "source": [
    "RGGbpr, RZgbpr, RZZbpr, RWWbpr = Rtogg(bpr, prt=True)"
   ]
  },
  {
   "cell_type": "code",
   "execution_count": 30,
   "metadata": {
    "collapsed": false,
    "hidden": true
   },
   "outputs": [
    {
     "data": {
      "text/plain": [
       "0.0708054803374501"
      ]
     },
     "execution_count": 30,
     "metadata": {},
     "output_type": "execute_result"
    }
   ],
   "source": [
    "# Branching ratio to gamma gamma:\n",
    "BrBPRgg = GAMHVV('gg', BSMfermions=bpr)/(GAMHVV('gg', BSMfermions=bpr)+GAMHVV('Zg', BSMfermions=bpr)+GAMHVV('ZZ', BSMfermions=bpr)+GAMHVV('WW', BSMfermions=bpr))\n",
    "BrBPRgg"
   ]
  },
  {
   "cell_type": "code",
   "execution_count": 31,
   "metadata": {
    "collapsed": false,
    "hidden": true
   },
   "outputs": [
    {
     "data": {
      "text/plain": [
       "0.761837016574111"
      ]
     },
     "execution_count": 31,
     "metadata": {},
     "output_type": "execute_result"
    }
   ],
   "source": [
    "# OA's factor \n",
    "10.8*(750/45)**2 /(64*pi.evalf()**3)**2 * 1000  # fb"
   ]
  },
  {
   "cell_type": "markdown",
   "metadata": {
    "heading_collapsed": true,
    "hidden": true
   },
   "source": [
    "### \"Our\" three-loop (ČKP) model"
   ]
  },
  {
   "cell_type": "code",
   "execution_count": 32,
   "metadata": {
    "collapsed": false,
    "hidden": true
   },
   "outputs": [
    {
     "name": "stdout",
     "output_type": "stream",
     "text": [
      "14*tau\n",
      "15.0*sigma\n",
      "12.5*sigmaprime\n"
     ]
    }
   ],
   "source": [
    "# Factors relevant for H-->gamma gamma\n",
    "sigmaprime = symbols('sigmaprime')\n",
    "print(tau*VVfactW(D=7, Y=0, real=True)['gg'])\n",
    "print(sigma*VVfactW(D=5, Y=-2, real=False)['gg'])\n",
    "print(sigmaprime*VVfactW(D=5, Y=-2, real=False, wght=True)['gg'])"
   ]
  },
  {
   "cell_type": "code",
   "execution_count": 33,
   "metadata": {
    "collapsed": false,
    "hidden": true
   },
   "outputs": [
    {
     "name": "stdout",
     "output_type": "stream",
     "text": [
      "14.0*tau\n",
      "10.0*sigma\n",
      "5.0*sigmaprime\n"
     ]
    }
   ],
   "source": [
    "# Factors relevant for H--> W+ W-  (with sqrt(2)/sw2 factor extracted)\n",
    "print((tau*VVfactW(D=7, Y=0, real=True)['WW']*sw2/sqrt(2)).evalf())\n",
    "print((sigma*VVfactW(D=5, Y=-2, real=False)['WW']*sw2/sqrt(2)).evalf())\n",
    "print((sigmaprime*VVfactW(D=5, Y=-2, real=False, wght=True)['WW']*sw2/sqrt(2)).evalf())"
   ]
  },
  {
   "cell_type": "markdown",
   "metadata": {
    "hidden": true
   },
   "source": [
    "One possible check is the known fact that for Y=0 model ratio of WW to $\\gamma\\gamma$ decay widths is $2/s_{W}^4=36.5$. We have such model for $\\sigma=\\sigma'=0$."
   ]
  },
  {
   "cell_type": "code",
   "execution_count": 34,
   "metadata": {
    "collapsed": false,
    "hidden": true
   },
   "outputs": [
    {
     "data": {
      "text/plain": [
       "36.5256775513186"
      ]
     },
     "execution_count": 34,
     "metadata": {},
     "output_type": "execute_result"
    }
   ],
   "source": [
    "GAMHckp('WW', sig=0, sigpri=0)/GAMHckp('gg', sig=0, sigpri=0)"
   ]
  },
  {
   "cell_type": "code",
   "execution_count": 35,
   "metadata": {
    "collapsed": false,
    "hidden": true
   },
   "outputs": [
    {
     "data": {
      "text/plain": [
       "(3.07584023022985, 4.93832776839717, 17.8360254438432)"
      ]
     },
     "execution_count": 35,
     "metadata": {},
     "output_type": "execute_result"
    }
   ],
   "source": [
    "# Final ratios to gamma gamma channel for tau=sig=sigpri\n",
    "GAMHckp('Zg')/GAMHckp('gg'), GAMHckp('ZZ')/GAMHckp('gg'), GAMHckp('WW')/GAMHckp('gg')"
   ]
  },
  {
   "cell_type": "code",
   "execution_count": 36,
   "metadata": {
    "collapsed": false,
    "hidden": true
   },
   "outputs": [
    {
     "data": {
      "text/plain": [
       "30.806647064041254"
      ]
     },
     "execution_count": 36,
     "metadata": {},
     "output_type": "execute_result"
    }
   ],
   "source": [
    "# Width for H(750) --> t tbar\n",
    "GAMHtt = 3*(1/126.5)*mH*mt**2/(8*sw2*mW**2)*(1-tauN(mt))**(3/2); GAMHtt"
   ]
  },
  {
   "cell_type": "code",
   "execution_count": 37,
   "metadata": {
    "collapsed": false,
    "hidden": true
   },
   "outputs": [],
   "source": [
    "def GAMTOTckp(tau, sig, sigpri, mchi, mphi):\n",
    "    \"\"\"Total width of H(750) in CKP model.\"\"\"\n",
    "    WW = GAMHckp('WW', tau, sig, sigpri, mchi, mphi)\n",
    "    ZZ = GAMHckp('ZZ', tau, sig, sigpri, mchi, mphi)\n",
    "    Zg = GAMHckp('Zg', tau, sig, sigpri, mchi, mphi)\n",
    "    gg = GAMHckp('gg', tau, sig, sigpri, mchi, mphi)\n",
    "    TOT = GAMHtt+WW+ZZ+Zg+gg\n",
    "    return TOT"
   ]
  },
  {
   "cell_type": "code",
   "execution_count": 38,
   "metadata": {
    "collapsed": false,
    "hidden": true
   },
   "outputs": [],
   "source": [
    "def GAMTOTckpD(lam, mS):\n",
    "    \"\"\"Total width of H(750) in CKP model with degenerate couplings and mases and Br(gg).\"\"\"\n",
    "    WW = GAMHckp('WW', tau=lam, sig=lam, sigpri=lam, mchi=mS, mphi=mS)\n",
    "    ZZ = GAMHckp('ZZ', tau=lam, sig=lam, sigpri=lam, mchi=mS, mphi=mS)\n",
    "    Zg = GAMHckp('Zg', tau=lam, sig=lam, sigpri=lam, mchi=mS, mphi=mS)\n",
    "    gg = GAMHckp('gg', tau=lam, sig=lam, sigpri=lam, mchi=mS, mphi=mS)\n",
    "    TOT = GAMHtt+WW+ZZ+Zg+gg\n",
    "    return TOT, gg/TOT"
   ]
  },
  {
   "cell_type": "code",
   "execution_count": 39,
   "metadata": {
    "collapsed": false,
    "hidden": true
   },
   "outputs": [
    {
     "name": "stdout",
     "output_type": "stream",
     "text": [
      "GAMHTOT = 46.6 GeV;  Br(H-->gamma gamma) = 0.01265\n"
     ]
    }
   ],
   "source": [
    "print( \"GAMHTOT = {:.1f} GeV;  Br(H-->gamma gamma) = {:.4}\".format(*GAMTOTckpD(8, 375)) )"
   ]
  },
  {
   "cell_type": "markdown",
   "metadata": {
    "heading_collapsed": true
   },
   "source": [
    "## Experimental constraints"
   ]
  },
  {
   "cell_type": "markdown",
   "metadata": {
    "heading_collapsed": true,
    "hidden": true
   },
   "source": [
    "### Generalities"
   ]
  },
  {
   "cell_type": "markdown",
   "metadata": {
    "hidden": true
   },
   "source": [
    "750 GeV diphoton excess:\n",
    "\n",
    "$$\\sigma(pp\\to H\\to \\gamma\\gamma)_{\\rm CMS} = 4.47 \\pm 1.86\\;{\\rm fb}$$\n",
    "$$\\sigma(pp\\to H\\to \\gamma\\gamma)_{\\rm ATLAS} = 10.6 \\pm 2.9\\;{\\rm fb}$$\n",
    "\n",
    "Combination by [Di Chiara et al.](<http://arXiv.org/pdf/1512.04939>):\n",
    "$$\\sigma(pp\\to H\\to \\gamma\\gamma)_{\\rm LHC} = 6.26 \\pm 3.32\\; {\\rm fb}$$\n",
    "\n",
    "So one could scan 3-10 fb region.\n",
    "\n",
    "- Width measured by ATLAS is 45 GeV; CMS prefers narrower."
   ]
  },
  {
   "cell_type": "code",
   "execution_count": 40,
   "metadata": {
    "collapsed": true,
    "hidden": true
   },
   "outputs": [],
   "source": [
    "xs_low = 3  # fb\n",
    "xs_high = 9 "
   ]
  },
  {
   "cell_type": "markdown",
   "metadata": {
    "hidden": true
   },
   "source": [
    "- 2HDM: for $m_H = 750\\;{\\rm GeV}$, $A$ and $H^\\pm$ are also close to 750 GeV.\n",
    "- Signal is $10^4$ times stronger than SM-like Higgs, so pure 2HDM is hopeless"
   ]
  },
  {
   "cell_type": "markdown",
   "metadata": {
    "hidden": true
   },
   "source": [
    "Higgs production by **gluon-gluon fusion**: 7 and 8 TeV by  [LHC Higgs xs WG](http://arXiv.org/pdf/1307.1347), and 13 TeV by [gluon luminosity ratios](https://twiki.cern.ch/twiki/bin/view/LHCPhysics/CERNYellowReportPageAt1314TeV2014) (13 TeV/8 TeV) being 2.296 for 125 GeV and 4.693 for 750 GeV.\n",
    "\n",
    "|          | 7 TeV    |  8 TeV   |  13 TeV\n",
    "|  ----    | -----    |  ------  | -----\n",
    "| h(125)   | 15.13 pb |  19.27 pb|  44.2 pb\n",
    "| h(750)   |  93 fb   |  157 fb  |  737 fb\n",
    "\n",
    "and we have\n",
    "\n",
    "$$\\sigma_{\\gamma\\gamma} = 737\\,{\\rm fb}\\; Br(H\\to\\gamma\\gamma)$$"
   ]
  },
  {
   "cell_type": "code",
   "execution_count": 41,
   "metadata": {
    "collapsed": true,
    "hidden": true
   },
   "outputs": [],
   "source": [
    "ggF13 = 737. # fb\n",
    "ggF8 = 157."
   ]
  },
  {
   "cell_type": "markdown",
   "metadata": {
    "hidden": true
   },
   "source": [
    "For production via **photon fusion** $pp \\to \\gamma \\gamma \\to H \\to \\gamma \\gamma$ at 13 TeV, [Harland-Lang et al.](http://arXiv.org/abs/1601.07187) have\n",
    "\n",
    "$$ \\sigma = 4.1\\,{\\rm pb}\\, \\left(\\frac{\\Gamma_H}{45\\, {\\rm GeV}}\\right) {\\rm Br}(H\\to\\gamma\\gamma)^2$$\n",
    "\n",
    "while [Csaki et al.](http://arXiv.org/abs/1601.00638) have\n",
    "\n",
    "$$ \\sigma = 10.8 \\,{\\rm pb}\\, \\left(\\frac{\\Gamma_H}{45\\, {\\rm GeV}}\\right) {\\rm Br}(H\\to\\gamma\\gamma)^2$$.\n",
    "\n",
    "They both include elastic and inelastic contributions, the latter also mixed, and in narrow width approximation. For $\\sigma = 3-9\\,{\\rm fb}$, we get from the second choice\n",
    "branching ratio 1.7-2.9 %, or $\\Gamma(H\\to\\gamma\\gamma) = 0.75-1.3\\,{\\rm GeV}$."
   ]
  },
  {
   "cell_type": "code",
   "execution_count": 42,
   "metadata": {
    "collapsed": false,
    "hidden": true
   },
   "outputs": [
    {
     "data": {
      "text/plain": [
       "7.4650175147929"
      ]
     },
     "execution_count": 42,
     "metadata": {},
     "output_type": "execute_result"
    }
   ],
   "source": [
    "# Same prefactor in picobarn from  Franceschini et al. Eq. (2)\n",
    "(45*54)/750/(13000)**2 * GeV2fb / 1000 "
   ]
  },
  {
   "cell_type": "markdown",
   "metadata": {
    "heading_collapsed": true,
    "hidden": true
   },
   "source": [
    "### one-loop BPR model"
   ]
  },
  {
   "cell_type": "code",
   "execution_count": 43,
   "metadata": {
    "collapsed": false,
    "hidden": true
   },
   "outputs": [
    {
     "data": {
      "text/plain": [
       "(2.49330992795410, 7.47992978386231)"
      ]
     },
     "execution_count": 43,
     "metadata": {},
     "output_type": "execute_result"
    }
   ],
   "source": [
    "## So in pure photon fusion production and pure VV decay scenario, we have for total H(750) width range in GeV\n",
    "GAMbpr_low, GAMbpr_high = [(siggg/10800)*45/BrBPRgg**2 for siggg in (xs_low, xs_high)]\n",
    "GAMbpr_low, GAMbpr_high"
   ]
  },
  {
   "cell_type": "code",
   "execution_count": 44,
   "metadata": {
    "collapsed": false,
    "hidden": true
   },
   "outputs": [
    {
     "data": {
      "text/plain": [
       "(0.176540007078923, 0.529620021236770)"
      ]
     },
     "execution_count": 44,
     "metadata": {},
     "output_type": "execute_result"
    }
   ],
   "source": [
    "# Translating this into H->gamma gamma width in GeV:\n",
    "GAMbpr_HGG_low, GAMbpr_HGG_high = sqrt((xs_low/10800)*GAMbpr_low*45), sqrt((xs_high/10800)*GAMbpr_high*45)\n",
    "GAMbpr_HGG_low, GAMbpr_HGG_high"
   ]
  },
  {
   "cell_type": "code",
   "execution_count": 45,
   "metadata": {
    "collapsed": true,
    "hidden": true
   },
   "outputs": [],
   "source": [
    "def lam(msig, GAM):\n",
    "    \"\"\"Coupling to get given width H->gamma gamma for given loop fermion mass.\"\"\"\n",
    "    ss = ( sqrt(256 * pi**3 * GAM / (alpha**2 * mH**3)) ).evalf()\n",
    "    return float(msig * ss / A12N(tauN(msig)))\n",
    "\n",
    "lamN = np.frompyfunc(lam, 2, 1)"
   ]
  },
  {
   "cell_type": "code",
   "execution_count": 46,
   "metadata": {
    "collapsed": false,
    "hidden": true
   },
   "outputs": [
    {
     "data": {
      "text/plain": [
       "42.00000000000001"
      ]
     },
     "execution_count": 46,
     "metadata": {},
     "output_type": "execute_result"
    }
   ],
   "source": [
    "# Checking that above inverted formula lambda(sigma) is consistent\n",
    "# with \"master\" formula sigma(lambda):\n",
    "lamN(400, GAMHVV('gg', BSMfermions=bpr, gHFF=42, mF=400))"
   ]
  },
  {
   "cell_type": "markdown",
   "metadata": {
    "hidden": true
   },
   "source": [
    "So, minimal possible coupling would be:"
   ]
  },
  {
   "cell_type": "code",
   "execution_count": 47,
   "metadata": {
    "collapsed": false,
    "hidden": true
   },
   "outputs": [
    {
     "data": {
      "text/plain": [
       "43.70652548562802"
      ]
     },
     "execution_count": 47,
     "metadata": {},
     "output_type": "execute_result"
    }
   ],
   "source": [
    "lam(375, GAMbpr_HGG_low)"
   ]
  },
  {
   "cell_type": "markdown",
   "metadata": {
    "hidden": true
   },
   "source": [
    "So, for $N_E=3$, and $\\cos\\theta_0\\sim 1$ we have $\\lambda/(4\\pi)$ = 1.1 and we are at the border of perturbativity?"
   ]
  },
  {
   "cell_type": "markdown",
   "metadata": {
    "hidden": true
   },
   "source": [
    "Constraints from 8 TeV VV bounds. First, cross sections for pp->H->VV at 8 TeV if pp->H->gg at 13 TeV is in (3 fb, 9 fb)"
   ]
  },
  {
   "cell_type": "code",
   "execution_count": 48,
   "metadata": {
    "collapsed": false,
    "hidden": true
   },
   "outputs": [
    {
     "data": {
      "text/plain": [
       "[9.131419387829643, 3.2022875273717673, 0.78949365111245, 1.0]"
      ]
     },
     "execution_count": 48,
     "metadata": {},
     "output_type": "execute_result"
    }
   ],
   "source": [
    "#rgg = 1.9  # gain for photon fusion xs going from 8 to 13 TeV in Franceschini et al.\n",
    "# rgg = 3.9   # value from Fichet et al.1512.05751 \n",
    "rgg = 3   # average value\n",
    "# For 3 pb\n",
    "[(xs_low*RVV)/rgg for RVV in [RWWbpr, RZZbpr, RZgbpr, 1]]"
   ]
  },
  {
   "cell_type": "code",
   "execution_count": 49,
   "metadata": {
    "collapsed": false,
    "hidden": true
   },
   "outputs": [
    {
     "data": {
      "text/plain": [
       "[27.394258163488928, 9.6068625821153, 2.36848095333735, 3.0]"
      ]
     },
     "execution_count": 49,
     "metadata": {},
     "output_type": "execute_result"
    }
   ],
   "source": [
    "# And for 9 fb\n",
    "[(xs_high*RVV)/rgg for RVV in [RWWbpr, RZZbpr, RZgbpr, 1]]"
   ]
  },
  {
   "cell_type": "code",
   "execution_count": 50,
   "metadata": {
    "collapsed": true,
    "hidden": true
   },
   "outputs": [],
   "source": [
    "# Bounds on pp->H->VV xs from LHC 8 TeV\n",
    "sig8 = {'WW' : 40, 'ZZ' : 12, 'Zg' : 11, 'gg' : 1.5}  # in fb, from Franceschini"
   ]
  },
  {
   "cell_type": "markdown",
   "metadata": {
    "hidden": true
   },
   "source": [
    "So we see that strongest bound comes from photon photon final state. This can be relaxed\n",
    "if one takes larger rgg, advocated by some."
   ]
  },
  {
   "cell_type": "code",
   "execution_count": 51,
   "metadata": {
    "collapsed": false,
    "hidden": true
   },
   "outputs": [],
   "source": [
    "def lambound(VV, msig, reps=bpr):\n",
    "    \"\"\"Boundary value of gHFF to violate 8 TeV VV xs constraint\"\"\"\n",
    "    VVs = VVfact(*smgroup.SMDynkin(reps))\n",
    "    RVV = float((VVs[VV]/VVs['gg'])**2)\n",
    "    # diphoton 13 TeV xs that would mean boundary VV 8 TeV xs\n",
    "    gamgg = sig8[VV]*rgg/RVV\n",
    "    Brgg = BrBPRgg  # FIXME: hardwired BPR\n",
    "    # H->gamma gamma width that would give above diphoton 13 TeV xs\n",
    "    GAMgg = gamgg*45/10800/Brgg\n",
    "    return lamN(msig, GAMgg)"
   ]
  },
  {
   "cell_type": "markdown",
   "metadata": {
    "heading_collapsed": true,
    "hidden": true
   },
   "source": [
    "### three-loop ČKP model"
   ]
  },
  {
   "cell_type": "markdown",
   "metadata": {
    "hidden": true
   },
   "source": [
    "With ggF as dominant production mechanism we have\n",
    "\n",
    "$$ \\sigma_{VV}^{8\\,{\\rm TeV}} = 157\\,{\\rm fb} \\; Br(H\\to VV)$$"
   ]
  },
  {
   "cell_type": "code",
   "execution_count": 52,
   "metadata": {
    "collapsed": true,
    "hidden": true
   },
   "outputs": [],
   "source": [
    "def sig8CKP(VV, tau, sig, sigpri, mchi, mphi):\n",
    "    \"\"\"xs in fb for pp-->H-->VV at 8 TeV in CKP model with degenerate couplings an masses\"\"\"\n",
    "    TOT = GAMTOTckp(tau, sig, sigpri, mchi, mphi)\n",
    "    BrVV = GAMHckp(VV, tau, sig, sigpri, mchi, mphi)/TOT\n",
    "    # print('GAMH = {:.1f} GeV, Br(H->{}) = {}'.format(TOT, VV, BrVV))\n",
    "    return ggF8 * BrVV"
   ]
  },
  {
   "cell_type": "code",
   "execution_count": 53,
   "metadata": {
    "collapsed": true,
    "hidden": true
   },
   "outputs": [],
   "source": [
    "def fun(VV, tau, s):\n",
    "    return sig8CKP(VV, tau=tau, sig=s, sigpri=s, mchi=375, mphi=375) - sig8[VV]"
   ]
  },
  {
   "cell_type": "code",
   "execution_count": 54,
   "metadata": {
    "collapsed": false,
    "hidden": true
   },
   "outputs": [],
   "source": [
    "def sigboundCKP(VV, tau, init=6):\n",
    "    \"\"\"Boundary value of sig=sig' to violate 8 TeV VV xs constraint\"\"\"\n",
    "    return root(lambda s: fun(VV, tau, s), init).x[0]"
   ]
  },
  {
   "cell_type": "code",
   "execution_count": 55,
   "metadata": {
    "collapsed": false,
    "hidden": true
   },
   "outputs": [
    {
     "data": {
      "text/plain": [
       "[9.5500996602504369,\n",
       " 20.258574027941098,\n",
       " 10.863836197260508,\n",
       " 5.9733245667941111]"
      ]
     },
     "execution_count": 55,
     "metadata": {},
     "output_type": "execute_result"
    }
   ],
   "source": [
    "[sigboundCKP(VV, 8) for VV in ['WW', 'Zg', 'ZZ', 'gg']]"
   ]
  },
  {
   "cell_type": "markdown",
   "metadata": {
    "hidden": true
   },
   "source": [
    "So it is again photon-photon channel that is most restrictive."
   ]
  },
  {
   "cell_type": "code",
   "execution_count": 56,
   "metadata": {
    "collapsed": true,
    "hidden": true
   },
   "outputs": [],
   "source": [
    "def funm(VV, mchi, s):\n",
    "    return sig8CKP(VV, tau=10, sig=10, sigpri=10, mchi=mchi, mphi=s) - sig8[VV]"
   ]
  },
  {
   "cell_type": "code",
   "execution_count": 57,
   "metadata": {
    "collapsed": false,
    "hidden": true
   },
   "outputs": [],
   "source": [
    "def mboundCKP(VV, mchi, init=390):\n",
    "    \"\"\"Boundary value of mphi to violate 8 TeV VV xs constraint\"\"\"\n",
    "    return root(lambda s: funm(VV, mchi, s), init).x[0]"
   ]
  },
  {
   "cell_type": "markdown",
   "metadata": {
    "heading_collapsed": true
   },
   "source": [
    "## Plots"
   ]
  },
  {
   "cell_type": "code",
   "execution_count": 58,
   "metadata": {
    "collapsed": true,
    "hidden": true
   },
   "outputs": [],
   "source": [
    "SAVEPDFS = True"
   ]
  },
  {
   "cell_type": "markdown",
   "metadata": {
    "heading_collapsed": true,
    "hidden": true
   },
   "source": [
    "### [Fig. 1a] Enhancement of $h(125)\\to\\gamma\\gamma$ in one-loop BRP model"
   ]
  },
  {
   "cell_type": "markdown",
   "metadata": {
    "hidden": true
   },
   "source": [
    "Enhancement from the lighter of two charged components of triplet scalar (cf. Eq. (10) from Brdar et al.)"
   ]
  },
  {
   "cell_type": "code",
   "execution_count": 59,
   "metadata": {
    "collapsed": true,
    "hidden": true
   },
   "outputs": [],
   "source": [
    "def Rgg(lam=1, m=375):\n",
    "    \"\"\"Triplet scalar h(125)->gamma gamma enhancement.\"\"\"\n",
    "    SM = A1N(tauN(mW,mh)) + 3*(2/3)**2*A12N(tauN(mt,mh))\n",
    "    BSM = lam * v**2 * A0N(tauN(m,mh)) / (2 * m**2)\n",
    "    return (1 + BSM/SM)**2"
   ]
  },
  {
   "cell_type": "code",
   "execution_count": 60,
   "metadata": {
    "collapsed": false,
    "hidden": true
   },
   "outputs": [
    {
     "data": {
      "image/png": "[encoded data removed]",
      "text/plain": [
       "<matplotlib.figure.Figure at 0x7faadd8fe278>"
      ]
     },
     "metadata": {},
     "output_type": "display_data"
    }
   ],
   "source": [
    "ms = np.linspace(375, 1000)\n",
    "fig, ax = plt.subplots(figsize=(4,4))\n",
    "ax.plot(ms, Rgg(lam=-20, m=ms), 'r--', label=r\"$c_S=-20$\")\n",
    "ax.plot(ms, Rgg(lam=-10, m=ms), 'b-', label=r\"$c_S=-10$\")\n",
    "ax.plot(ms, Rgg(lam=-5, m=ms), 'k:', label=r\"$c_S=-5$\")\n",
    "ax.plot(ms, Rgg(lam=10, m=ms), 'g-.', label=r\"$c_S=\\;\\;10$\")\n",
    "#ax.plot(ms, Rgg(lam=20, m=ms), label=r\"$c_S=\\;\\;20$\")\n",
    "ax.set_xlabel(r'$m_S \\;{\\rm [GeV]}$', fontsize=16)\n",
    "ax.set_ylabel(r\"$R_{\\gamma\\gamma}$\", fontsize=16)\n",
    "props = dict(color=\"red\", linestyle=\"-\", linewidth=2)\n",
    "ax.axhline(0.9, **props)\n",
    "ax.axhline(1.44, **props)\n",
    "ax.legend(loc=(0.5, 0.55)).draw_frame(0)\n",
    "plt.tight_layout()\n",
    "if SAVEPDFS:\n",
    "    plt.savefig(\"/home/kkumer/h125gg.pdf\")"
   ]
  },
  {
   "cell_type": "markdown",
   "metadata": {
    "heading_collapsed": true,
    "hidden": true
   },
   "source": [
    "### [Fig 1b] $H(750)\\to\\gamma\\gamma$ in one-loop BRP model"
   ]
  },
  {
   "cell_type": "code",
   "execution_count": 61,
   "metadata": {
    "collapsed": false,
    "hidden": true
   },
   "outputs": [
    {
     "data": {
      "image/png": "[encoded data removed]",
      "text/plain": [
       "<matplotlib.figure.Figure at 0x7faadd915b38>"
      ]
     },
     "metadata": {},
     "output_type": "display_data"
    }
   ],
   "source": [
    "xmin, xmax = 375, 800\n",
    "ymin, ymax = 0, 250\n",
    "ms = np.linspace(xmin, xmax)\n",
    "lam3 = lamN(ms, GAMbpr_HGG_low).astype(np.float)  # 3 fb\n",
    "lam9 = lamN(ms, GAMbpr_HGG_high).astype(np.float) # 9 fb\n",
    "# 8 TeV bounds\n",
    "lamWW = lambound('WW', ms).astype(np.float)\n",
    "lamZZ = lambound('ZZ', ms).astype(np.float)\n",
    "lamZg = lambound('Zg', ms).astype(np.float)\n",
    "lamgg = lambound('gg', ms).astype(np.float)\n",
    "fig, ax = plt.subplots(figsize=(4,4))\n",
    "ax.fill_between(ms, lam3, lamgg, color='lightgreen', alpha='0.5')\n",
    "ax.fill_between(ms, lamgg, ymax, color='gray', alpha='0.6')\n",
    "ax.plot(ms, lam9, 'b--', label=r'$\\sigma_{\\gamma\\gamma}= 9\\,{\\rm fb}$')\n",
    "ax.plot(ms, lam3, 'b-', label=r'$\\sigma_{\\gamma\\gamma}= 3\\,{\\rm fb}$')\n",
    "lWW, = ax.plot(ms, lamWW, 'r-', label=r'$\\sigma_{VV}^{8\\,{\\rm TeV}}\\,{\\rm bounds}$')\n",
    "lgg, = ax.plot(ms, lamgg, 'r-')\n",
    "lZg, = ax.plot(ms, lamZg, 'r-')\n",
    "ax.set_ylabel(r'$g_3\\, \\cos\\theta_0\\, N_E$', fontsize=16)\n",
    "ax.set_xlabel(r'$m_{E}\\:{\\rm [GeV]}$', fontsize=16)\n",
    "ax.xaxis.set_major_locator(ticker.MultipleLocator(100))\n",
    "ax.legend(loc=4).draw_frame(0)\n",
    "ax.set_xlim(xmin, xmax)\n",
    "ax.set_ylim(ymin, ymax)\n",
    "plt.tight_layout()\n",
    "# Put labels on exclusion lines\n",
    "label_line(lWW, r\"$WW$\", near_x=650)\n",
    "label_line(lgg, r\"$\\gamma\\gamma$\", near_x=650)\n",
    "label_line(lZg, r\"$Z\\gamma$\", near_x=420)\n",
    "if SAVEPDFS:\n",
    "    plt.savefig(\"/home/kkumer/triplet.pdf\")"
   ]
  },
  {
   "cell_type": "markdown",
   "metadata": {
    "heading_collapsed": true,
    "hidden": true
   },
   "source": [
    "### [Fig. 2] Allowed mass/coupling parameter ranges for ČKP model"
   ]
  },
  {
   "cell_type": "code",
   "execution_count": 62,
   "metadata": {
    "collapsed": false,
    "hidden": true
   },
   "outputs": [
    {
     "data": {
      "image/png": "[encoded data removed]",
      "text/plain": [
       "<matplotlib.figure.Figure at 0x7faadd98f358>"
      ]
     },
     "metadata": {},
     "output_type": "display_data"
    }
   ],
   "source": [
    "resolution = 60  # of calculation grid \n",
    "bmax=15\n",
    "xs = np.linspace(-bmax, bmax, resolution)\n",
    "ys = np.linspace(-bmax, bmax, resolution)\n",
    "levels = [3, 6, 9]\n",
    "X, Y = np.meshgrid(xs, ys)\n",
    "#Z = X**2 + Y**2\n",
    "Z = GAMHckp('gg', tau=X, sig=Y, sigpri=Y, mchi=375, mphi=375)*737./30.\n",
    "fig, ax = plt.subplots(figsize=(4.5,4.5))\n",
    "#ax.contour(X, Y, Z, cmap=plt.cm.viridis)\n",
    "CS = plt.contour(X, Y, Z, levels, cmap=plt.cm.Dark2, linestyles='dashed')\n",
    "for c in CS.collections:\n",
    "    c.set_dashes([(0, (8.0, 3.0))])\n",
    "fig = plt.clabel(CS, inline=1, fmt=r'$%.0f \\;{\\rm fb}$', fontsize=12, colors='black')\n",
    "ax.annotate(r'$m_\\chi = m_\\phi = 375\\;{\\rm GeV}$', xy=(0.05, 0.58), xycoords='axes fraction', fontsize=12)\n",
    "ax.set_xlabel(r'$\\tau$', fontsize=16)\n",
    "ax.set_ylabel(r\"$\\sigma=\\sigma'$\", fontsize=16)\n",
    "props = dict(color=\"green\", linestyle=\"-.\", linewidth=1)\n",
    "ax.axvline(x=0, **props)\n",
    "ax.axhline(y=0, **props)\n",
    "cut = 20 # by eyeballing\n",
    "gs = [sigboundCKP('gg', t, init=-20) for t in xs]\n",
    "lggL, = plt.plot(xs, gs, 'r-')\n",
    "ax.fill_between(xs, -bmax, gs, color='gray', alpha='0.6')\n",
    "gs = [sigboundCKP('gg', t, init=20) for t in xs]\n",
    "lggH, = plt.plot(xs, gs, 'r-')\n",
    "ax.fill_between(xs, gs, bmax, color='gray', alpha='0.6')\n",
    "plt.tight_layout()\n",
    "fig = plt.ylim(-bmax, bmax)\n",
    "# Put labels on exclusion lines\n",
    "label_line(lggL, r\"$\\gamma\\gamma$\", near_x=-12)\n",
    "label_line(lggH, r\"$\\gamma\\gamma$\", near_x=12)\n",
    "if SAVEPDFS:\n",
    "    plt.savefig(\"/home/kkumer/tausig.pdf\")"
   ]
  },
  {
   "cell_type": "code",
   "execution_count": 63,
   "metadata": {
    "collapsed": false,
    "hidden": true
   },
   "outputs": [
    {
     "data": {
      "image/png": "[encoded data removed]",
      "text/plain": [
       "<matplotlib.figure.Figure at 0x7faadd2466d8>"
      ]
     },
     "metadata": {},
     "output_type": "display_data"
    }
   ],
   "source": [
    "resolution = 60  # of calculation grid \n",
    "xs = np.linspace(375, 450, resolution)\n",
    "ys = np.linspace(375, 450, resolution)\n",
    "levels = [3, 6, 9]\n",
    "X, Y = np.meshgrid(xs, ys)\n",
    "#Z = X**2 + Y**2\n",
    "Z = GAMHckp('gg', tau=10, sig=10, sigpri=10, mchi=X, mphi=Y)*737./30.\n",
    "fig, ax = plt.subplots(figsize=(4.5,4.5))\n",
    "CS = plt.contour(X, Y, Z, levels, cmap=plt.cm.Dark2, linestyles='dashed')\n",
    "for c in CS.collections:\n",
    "    c.set_dashes([(0, (8.0, 3.0))])\n",
    "fig = plt.clabel(CS, inline=1, fmt=r'$%.0f \\;{\\rm fb}$', fontsize=12, colors='black')\n",
    "ax.annotate(r\"$\\tau=\\sigma=\\sigma' = 10$\", xy=(0.6, 0.88), xycoords='axes fraction', fontsize=14)\n",
    "ax.set_xlabel(r'$m_\\chi \\; {\\rm [GeV]}$', fontsize=16)\n",
    "ax.set_ylabel(r\"$m_\\phi \\; {\\rm [GeV]}$\", fontsize=16)\n",
    "#props = dict(color=\"green\", linestyle=\"-.\", linewidth=1)\n",
    "#ax.axvline(x=375, **props)\n",
    "#ax.axhline(y=375, **props)\n",
    "gs = [mboundCKP('gg', m, init=380) for m in xs]\n",
    "lgg, = plt.plot(xs, gs, 'r-')\n",
    "ax.fill_between(xs, 375, gs, color='gray', alpha='0.6')\n",
    "plt.tight_layout()\n",
    "# Put labels on exclusion lines\n",
    "label_line(lgg, r\"$\\gamma\\gamma$\", near_x=380)\n",
    "if SAVEPDFS:\n",
    "    plt.savefig(\"/home/kkumer/mm.pdf\")"
   ]
  },
  {
   "cell_type": "markdown",
   "metadata": {
    "heading_collapsed": true,
    "hidden": true
   },
   "source": [
    "### [Fig 2] $\\sigma(pp \\to H(750)\\to\\gamma\\gamma)$ in three-loop ČKP model"
   ]
  },
  {
   "cell_type": "code",
   "execution_count": 64,
   "metadata": {
    "collapsed": false,
    "hidden": true
   },
   "outputs": [
    {
     "data": {
      "image/png": "[encoded data removed]",
      "text/plain": [
       "<matplotlib.figure.Figure at 0x7faadd0ff828>"
      ]
     },
     "metadata": {},
     "output_type": "display_data"
    }
   ],
   "source": [
    "xmin, xmax = 375, 400\n",
    "ymin, ymax = 0, 13.5\n",
    "xs = np.linspace(xmin,xmax)\n",
    "plt.figure(figsize=(4,4))\n",
    "TOT, BR = GAMTOTckpD(8, xs)\n",
    "plt.plot(xs , ggF13 * BR, label=r\"$\\tau=\\sigma=\\sigma' = 8$\")\n",
    "TOT, BR = GAMTOTckpD(4, xs)\n",
    "plt.plot(xs , ggF13* BR, 'r--', label=r\"$\\tau=\\sigma=\\sigma' = 4$\")\n",
    "plt.ylabel(r'$\\sigma(pp\\to H\\to\\gamma\\gamma)\\;{\\rm [fb]}$', fontsize=16)\n",
    "plt.xlabel(r'$m_{\\chi}=m_{\\phi}\\;{\\rm [GeV]}$', fontsize=16)\n",
    "plt.fill_between(xs, xs_low*np.ones(xs.shape), xs_high*np.ones(xs.shape), facecolor='lightgreen', alpha=0.5)\n",
    "plt.text(385, 8, r'${\\rm ATLAS+CMS}\\; \\sigma_{\\gamma\\gamma}\\; {\\rm range}$')\n",
    "plt.legend(loc=1).draw_frame(0)\n",
    "fig = plt.ylim(ymin, ymax)\n",
    "plt.tight_layout()\n",
    "if SAVEPDFS:\n",
    "    plt.savefig('/home/kkumer/diphm.pdf')"
   ]
  },
  {
   "cell_type": "code",
   "execution_count": 65,
   "metadata": {
    "collapsed": false,
    "hidden": true
   },
   "outputs": [
    {
     "data": {
      "image/png": "[encoded data removed]",
      "text/plain": [
       "<matplotlib.figure.Figure at 0x7faadd7b1e48>"
      ]
     },
     "metadata": {},
     "output_type": "display_data"
    }
   ],
   "source": [
    "xmin, xmax = 0.2, 12\n",
    "xs = np.linspace(xmin,xmax)\n",
    "plt.figure(figsize=(3.7,4))\n",
    "TOT, BR = GAMTOTckpD(xs, 375)\n",
    "plt.plot(xs , ggF13*BR, label=r'$m_{\\chi} = m_{\\phi} = 375 \\;{\\rm GeV}$')\n",
    "TOT, BR = GAMTOTckpD(xs, 400)\n",
    "plt.plot(xs , ggF13*BR, 'r--', label=r'$m_{\\chi} = m_{\\phi} = 400 \\;{\\rm GeV}$')\n",
    "#plt.ylabel(r'$\\sigma(pp\\to H\\to\\gamma\\gamma)\\;{\\rm [fb]}$', fontsize=16)\n",
    "plt.xlabel(r\"$\\tau=\\sigma=\\sigma'$\", fontsize=16)\n",
    "plt.fill_between(xs, xs_low*np.ones(xs.shape), xs_high*np.ones(xs.shape), facecolor='lightgreen', alpha=0.5)\n",
    "plt.text(2.5, 8, r'${\\rm ATLAS+CMS}\\; \\sigma_{\\gamma\\gamma}\\; {\\rm range}$')\n",
    "plt.legend(loc=2).draw_frame(0)\n",
    "plt.xlim(2, 8.5)\n",
    "fig = plt.ylim(ymin, ymax)\n",
    "plt.tight_layout()\n",
    "if SAVEPDFS:\n",
    "    plt.savefig('/home/kkumer/diphlam.pdf')"
   ]
  },
  {
   "cell_type": "markdown",
   "metadata": {
    "heading_collapsed": true,
    "hidden": true
   },
   "source": [
    "### [Fig 3] $\\Gamma_{H(750)}$ in three-loop ČKP model"
   ]
  },
  {
   "cell_type": "code",
   "execution_count": 66,
   "metadata": {
    "collapsed": false,
    "hidden": true
   },
   "outputs": [
    {
     "data": {
      "image/png": "[encoded data removed]",
      "text/plain": [
       "<matplotlib.figure.Figure at 0x7faadce0b160>"
      ]
     },
     "metadata": {},
     "output_type": "display_data"
    }
   ],
   "source": [
    "xmin, xmax = 375, 400\n",
    "ymin, ymax = 20, 60\n",
    "xs = np.linspace(xmin,xmax)\n",
    "plt.figure(figsize=(4,4))\n",
    "TOT, BR = GAMTOTckpD(8, xs)\n",
    "plt.plot(xs , TOT, label=r\"$\\tau=\\sigma=\\sigma' = 8$\")\n",
    "TOT, BR = GAMTOTckpD(4, xs)\n",
    "plt.plot(xs , TOT, 'r--', label=r\"$\\tau=\\sigma=\\sigma' = 4$\")\n",
    "plt.ylabel(r'$\\Gamma_H\\;{\\rm [GeV]}$', fontsize=16)\n",
    "plt.xlabel(r'$m_{\\chi}=m_{\\phi}\\;{\\rm [GeV]}$', fontsize=16)\n",
    "#plt.fill_between(xs, xs_low*np.ones(xs.shape), xs_high*np.ones(xs.shape), facecolor='lightgreen', alpha=0.5)\n",
    "#plt.text(388, 8, r'${\\rm ATLAS+CMS}\\; \\gamma\\gamma\\; {\\rm range}$')\n",
    "plt.legend(loc=1).draw_frame(0)\n",
    "fig = plt.ylim(ymin, ymax)\n",
    "plt.tight_layout()\n",
    "if SAVEPDFS:\n",
    "    plt.savefig('/home/kkumer/diphGAMm.pdf')"
   ]
  },
  {
   "cell_type": "code",
   "execution_count": 67,
   "metadata": {
    "collapsed": false,
    "hidden": true
   },
   "outputs": [
    {
     "data": {
      "image/png": "[encoded data removed]",
      "text/plain": [
       "<matplotlib.figure.Figure at 0x7faadd2a7f28>"
      ]
     },
     "metadata": {},
     "output_type": "display_data"
    }
   ],
   "source": [
    "xmin, xmax = 0.2, 12\n",
    "xs = np.linspace(xmin,xmax)\n",
    "plt.figure(figsize=(3.7,4))\n",
    "TOT, BR = GAMTOTckpD(xs, 375)\n",
    "plt.plot(xs , TOT, label=r'$m_{\\chi} = m_{\\phi} = 375 \\;{\\rm GeV}$')\n",
    "TOT, BR = GAMTOTckpD(xs, 400)\n",
    "plt.plot(xs , TOT, 'r--', label=r'$m_{\\chi} = m_{\\phi} = 400 \\;{\\rm GeV}$')\n",
    "#plt.ylabel(r'$\\sigma(pp\\to H\\to\\gamma\\gamma)\\;{\\rm [fb]}$', fontsize=16)\n",
    "plt.xlabel(r\"$\\tau=\\sigma=\\sigma'$\", fontsize=16)\n",
    "#plt.fill_between(xs, xs_low*np.ones(xs.shape), xs_high*np.ones(xs.shape), facecolor='lightgreen', alpha=0.5)\n",
    "#plt.text(2.5, 8, r'${\\rm ATLAS+CMS}\\; \\gamma\\gamma\\; {\\rm range}$')\n",
    "plt.legend(loc=2).draw_frame(0)\n",
    "#plt.xlim(xmin, xmax)\n",
    "fig = plt.ylim(ymin, ymax)\n",
    "plt.tight_layout()\n",
    "if SAVEPDFS:\n",
    "    plt.savefig('/home/kkumer/diphGAMlam.pdf')"
   ]
  },
  {
   "cell_type": "code",
   "execution_count": null,
   "metadata": {
    "collapsed": true,
    "hidden": true
   },
   "outputs": [],
   "source": []
  }
 ],
 "metadata": {
  "git": {
   "suppress_outputs": false
  },
  "kernelspec": {
   "display_name": "Python 3",
   "language": "python",
   "name": "python3"
  },
  "language_info": {
   "codemirror_mode": {
    "name": "ipython",
    "version": 3
   },
   "file_extension": ".py",
   "mimetype": "text/x-python",
   "name": "python",
   "nbconvert_exporter": "python",
   "pygments_lexer": "ipython3",
   "version": "3.5.1"
  },
  "toc": {
   "toc_cell": false,
   "toc_number_sections": true,
   "toc_section_display": "none",
   "toc_threshold": 6,
   "toc_window_display": false
  },
  "toc_position": {
   "height": "33px",
   "left": "876.375px",
   "right": "20px",
   "top": "120px",
   "width": "153px"
  }
 },
 "nbformat": 4,
 "nbformat_minor": 0
}
