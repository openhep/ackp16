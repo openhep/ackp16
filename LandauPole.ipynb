{
 "cells": [
  {
   "cell_type": "markdown",
   "metadata": {},
   "source": [
    "<center><b><font size=\"5\">Looking for Landau poles</font></b></center>"
   ]
  },
  {
   "cell_type": "code",
   "execution_count": 1,
   "metadata": {
    "collapsed": false
   },
   "outputs": [],
   "source": [
    "%matplotlib inline\n",
    "from scipy.integrate import odeint\n",
    "import matplotlib.pyplot as plt\n",
    "import numpy as np\n",
    "#import math\n",
    "from scipy import pi\n",
    "from sympy import Rational, sqrt, Symbol, init_printing"
   ]
  },
  {
   "cell_type": "code",
   "execution_count": 2,
   "metadata": {
    "collapsed": true
   },
   "outputs": [],
   "source": [
    "# local packages\n",
    "# from plothelp import label_line\n",
    "from smgroup import *\n",
    "from constants import *"
   ]
  },
  {
   "cell_type": "code",
   "execution_count": 3,
   "metadata": {
    "collapsed": true
   },
   "outputs": [],
   "source": [
    "init_printing(use_latex='mathjax')"
   ]
  },
  {
   "cell_type": "markdown",
   "metadata": {
    "heading_collapsed": true
   },
   "source": [
    "##  RGE coefficients"
   ]
  },
  {
   "cell_type": "markdown",
   "metadata": {
    "heading_collapsed": true,
    "hidden": true
   },
   "source": [
    "### Definition of 1- and 2-loop RGE "
   ]
  },
  {
   "cell_type": "code",
   "execution_count": 4,
   "metadata": {
    "collapsed": false,
    "hidden": true
   },
   "outputs": [],
   "source": [
    "ng = Symbol('n_g')  # number of generations\n",
    "nh = Symbol('n_h')  # number of SM Higgs doublets = 1\n",
    "# we count only left-handed particles\n",
    "SMfermions = [\n",
    "    Weyl(1, 2, -1, ng),  # left lepton doublet\n",
    "    Weyl(1, 1,  2, ng),  # anti-right lepton singlet\n",
    "    Weyl(3, 2, Rational(1,3), ng),  # left quark doublet\n",
    "    Weyl(3, 1, Rational(-4,3), ng), # anti-right up quark singlet\n",
    "    Weyl(3, 1, Rational(2,3), ng) # anti-right down quark singlet\n",
    "    ]\n",
    "SMscalars = [\n",
    "    ComplexScalar(1, 2, 1, nh)     # Higgs doublet\n",
    "    ]"
   ]
  },
  {
   "cell_type": "code",
   "execution_count": 5,
   "metadata": {
    "collapsed": true,
    "hidden": true
   },
   "outputs": [],
   "source": [
    "def rge1L(N, BSMfermions=[], BSMscalars=[], num=False):\n",
    "    \"\"\"One loop RGE coefficient.\"\"\"\n",
    "    \n",
    "    a = Rational(-11,3)*CA(N)\n",
    "    for rep in SMfermions + BSMfermions:\n",
    "        a += Rational(4,3) * rep.wS2(N)\n",
    "    for rep in SMscalars + BSMscalars:\n",
    "        a += Rational(1,3) * rep.wS2(N)\n",
    "    if num:\n",
    "        return float(a.subs({ng:3, nh:1}))\n",
    "    else:\n",
    "        return a"
   ]
  },
  {
   "cell_type": "code",
   "execution_count": 6,
   "metadata": {
    "collapsed": false,
    "hidden": true
   },
   "outputs": [],
   "source": [
    "def rge1LM(BSMfermions=[], BSMscalars=[]):\n",
    "    \"\"\"All three one-loop RGE coefficients.\"\"\"\n",
    "    return np.array([rge1L(N, BSMfermions=BSMfermions, BSMscalars=BSMscalars, num=True) for N in [1,2,3]])"
   ]
  },
  {
   "cell_type": "code",
   "execution_count": 7,
   "metadata": {
    "collapsed": false,
    "hidden": true
   },
   "outputs": [],
   "source": [
    "def rge2L(N, M, BSMfermions=[], BSMscalars=[], num=False):\n",
    "    \"\"\"Two-loop RGE coeffs. Same syntax as for one-loop.\"\"\"\n",
    "    \n",
    "    b = 0\n",
    "    if M != N:\n",
    "        for rep in SMfermions + SMscalars + BSMfermions + BSMscalars:\n",
    "            b += 4 * rep.wS2(N) * rep.C2(M)\n",
    "    if M == N:\n",
    "        b += Rational(-34,3)*CA(N)**2\n",
    "        for rep in SMfermions + BSMfermions:\n",
    "            b += rep.wS2(N)*(4*rep.C2(N)+Rational(20,3)*CA(N))\n",
    "        for rep in SMscalars + BSMscalars:\n",
    "            b += rep.wS2(N)*(4*rep.C2(N)+Rational(2,3)*CA(N))\n",
    "    if num:\n",
    "        return float(b.subs({ng:3, nh:1}))\n",
    "    else:\n",
    "        return b"
   ]
  },
  {
   "cell_type": "code",
   "execution_count": 8,
   "metadata": {
    "collapsed": true,
    "hidden": true
   },
   "outputs": [],
   "source": [
    "def rge2LM(BSMfermions=[], BSMscalars=[]):\n",
    "    \"\"\"Whole matrix of two-loop RGE coefficients.\"\"\"\n",
    "    return np.array([[rge2L(N, M, BSMfermions=BSMfermions, BSMscalars=BSMscalars, num=True) for M in [1,2,3]] for N in [1,2,3]])"
   ]
  },
  {
   "cell_type": "markdown",
   "metadata": {
    "heading_collapsed": true,
    "hidden": true
   },
   "source": [
    "### Testing one loop RGE coefs"
   ]
  },
  {
   "cell_type": "code",
   "execution_count": 9,
   "metadata": {
    "collapsed": false,
    "hidden": true
   },
   "outputs": [
    {
     "data": {
      "text/latex": [
       "$$\\left [ \\frac{4 n_{g}}{3} + \\frac{n_{h}}{10}, \\quad \\frac{4 n_{g}}{3} + \\frac{n_{h}}{6} - \\frac{22}{3}, \\quad \\frac{4 n_{g}}{3} - 11\\right ]$$"
      ],
      "text/plain": [
       "⎡4⋅n_g   nₕ  4⋅n_g   nₕ   22  4⋅n_g     ⎤\n",
       "⎢───── + ──, ───── + ── - ──, ───── - 11⎥\n",
       "⎣  3     10    3     6    3     3       ⎦"
      ]
     },
     "execution_count": 9,
     "metadata": {},
     "output_type": "execute_result"
    }
   ],
   "source": [
    "# Test SM values: \n",
    "[rge1L(k) for k in [1,2,3]]"
   ]
  },
  {
   "cell_type": "code",
   "execution_count": 10,
   "metadata": {
    "collapsed": false,
    "hidden": true
   },
   "outputs": [
    {
     "data": {
      "text/latex": [
       "$$\\left [ \\frac{41}{10}, \\quad - \\frac{19}{6}, \\quad -7\\right ]$$"
      ],
      "text/plain": [
       "⎡41           ⎤\n",
       "⎢──, -19/6, -7⎥\n",
       "⎣10           ⎦"
      ]
     },
     "execution_count": 10,
     "metadata": {},
     "output_type": "execute_result"
    }
   ],
   "source": [
    "# Test SM values: \n",
    "# SARAH values:  [41/10,  -19/6, -7]\n",
    "[rge1L(k).subs({ng:3, nh:1}) for k in [1,2,3]]"
   ]
  },
  {
   "cell_type": "code",
   "execution_count": 11,
   "metadata": {
    "collapsed": false,
    "hidden": true
   },
   "outputs": [
    {
     "data": {
      "text/plain": [
       "array([ 4.1       , -3.16666667, -7.        ])"
      ]
     },
     "execution_count": 11,
     "metadata": {},
     "output_type": "execute_result"
    }
   ],
   "source": [
    "# Should be: 4.1, -3.1666, -7.\n",
    "rge1LM()"
   ]
  },
  {
   "cell_type": "code",
   "execution_count": 12,
   "metadata": {
    "collapsed": false,
    "hidden": true
   },
   "outputs": [
    {
     "name": "stdout",
     "output_type": "stream",
     "text": [
      "ComplexScalar(1,1,Y,1)   0.15*Y**2   0      0  \n",
      "ComplexScalar(1,2,Y,1)   0.3*Y**2    0.500  0  \n",
      "ComplexScalar(1,3,Y,1)   0.45*Y**2   2.00   0  \n",
      "ComplexScalar(1,4,Y,1)   0.6*Y**2    5.00   0  \n",
      "ComplexScalar(1,5,Y,1)   0.75*Y**2   10.0   0  \n",
      "ComplexScalar(1,6,Y,1)   0.9*Y**2    17.5   0  \n",
      "ComplexScalar(1,7,Y,1)   1.05*Y**2   28.0   0  \n",
      "ComplexScalar(3,1,Y,1)   0.45*Y**2   0      0.500\n",
      "ComplexScalar(3,2,Y,1)   0.9*Y**2    1.50   1.00\n",
      "ComplexScalar(3,3,Y,1)   1.35*Y**2   6.00   1.50\n",
      "ComplexScalar(3,4,Y,1)   1.8*Y**2    15.0   2.00\n",
      "ComplexScalar(3,5,Y,1)   2.25*Y**2   30.0   2.50\n",
      "ComplexScalar(3,6,Y,1)   2.7*Y**2    52.5   3.00\n",
      "ComplexScalar(3,7,Y,1)   3.15*Y**2   84.0   3.50\n",
      "ComplexScalar(6,1,Y,1)   0.9*Y**2    0      2.50\n",
      "ComplexScalar(6,2,Y,1)   1.8*Y**2    3.00   5.00\n",
      "ComplexScalar(6,3,Y,1)   2.7*Y**2    12.0   7.50\n",
      "ComplexScalar(6,4,Y,1)   3.6*Y**2    30.0   10.0\n",
      "ComplexScalar(6,5,Y,1)   4.5*Y**2    60.0   12.5\n",
      "ComplexScalar(6,6,Y,1)   5.4*Y**2    105.   15.0\n",
      "ComplexScalar(6,7,Y,1)   6.3*Y**2    168.   17.5\n",
      "ComplexScalar(8,1,Y,1)   1.2*Y**2    0      3.00\n",
      "ComplexScalar(8,2,Y,1)   2.4*Y**2    4.00   6.00\n",
      "ComplexScalar(8,3,Y,1)   3.6*Y**2    16.0   9.00\n",
      "ComplexScalar(8,4,Y,1)   4.8*Y**2    40.0   12.0\n",
      "ComplexScalar(8,5,Y,1)   6.0*Y**2    80.0   15.0\n",
      "ComplexScalar(8,6,Y,1)   7.2*Y**2    140.   18.0\n",
      "ComplexScalar(8,7,Y,1)   8.4*Y**2    224.   21.0\n"
     ]
    }
   ],
   "source": [
    "# Compare to Lindner's table (new scalars)\n",
    "# last row should be:   8.4*Y**2    224.   21.0\n",
    "#  \n",
    "Y = Symbol('Y')\n",
    "for D3 in [1, 3, 6, 8]:\n",
    "    for D2 in range(1, 8):\n",
    "        rep = ComplexScalar(D3, D2, Y)\n",
    "        print(rep, \"  {:10s}  {:5s}  {:3s}\".format(*[str(3*(rge1L(k, BSMscalars=[rep], num=False)-rge1L(k, num=False)).evalf(3)) for k in [1,2,3]]))"
   ]
  },
  {
   "cell_type": "code",
   "execution_count": 13,
   "metadata": {
    "collapsed": false,
    "hidden": true
   },
   "outputs": [
    {
     "name": "stdout",
     "output_type": "stream",
     "text": [
      "Weyl(1,1,Y,1)   0.15*Y**2   0      0  \n",
      "Weyl(1,2,Y,1)   0.3*Y**2    0.500  0  \n",
      "Weyl(1,3,Y,1)   0.45*Y**2   2.00   0  \n",
      "Weyl(1,4,Y,1)   0.6*Y**2    5.00   0  \n",
      "Weyl(1,5,Y,1)   0.75*Y**2   10.0   0  \n",
      "Weyl(1,6,Y,1)   0.9*Y**2    17.5   0  \n",
      "Weyl(1,7,Y,1)   1.05*Y**2   28.0   0  \n",
      "Weyl(3,1,Y,1)   0.45*Y**2   0      0.500\n",
      "Weyl(3,2,Y,1)   0.9*Y**2    1.50   1.00\n",
      "Weyl(3,3,Y,1)   1.35*Y**2   6.00   1.50\n",
      "Weyl(3,4,Y,1)   1.8*Y**2    15.0   2.00\n",
      "Weyl(3,5,Y,1)   2.25*Y**2   30.0   2.50\n",
      "Weyl(3,6,Y,1)   2.7*Y**2    52.5   3.00\n",
      "Weyl(3,7,Y,1)   3.15*Y**2   84.0   3.50\n",
      "Weyl(6,1,Y,1)   0.9*Y**2    0      2.50\n",
      "Weyl(6,2,Y,1)   1.8*Y**2    3.00   5.00\n",
      "Weyl(6,3,Y,1)   2.7*Y**2    12.0   7.50\n",
      "Weyl(6,4,Y,1)   3.6*Y**2    30.0   10.0\n",
      "Weyl(6,5,Y,1)   4.5*Y**2    60.0   12.5\n",
      "Weyl(6,6,Y,1)   5.4*Y**2    105.   15.0\n",
      "Weyl(6,7,Y,1)   6.3*Y**2    168.   17.5\n",
      "Weyl(8,1,Y,1)   1.2*Y**2    0      3.00\n",
      "Weyl(8,2,Y,1)   2.4*Y**2    4.00   6.00\n",
      "Weyl(8,3,Y,1)   3.6*Y**2    16.0   9.00\n",
      "Weyl(8,4,Y,1)   4.8*Y**2    40.0   12.0\n",
      "Weyl(8,5,Y,1)   6.0*Y**2    80.0   15.0\n",
      "Weyl(8,6,Y,1)   7.2*Y**2    140.   18.0\n",
      "Weyl(8,7,Y,1)   8.4*Y**2    224.   21.0\n"
     ]
    }
   ],
   "source": [
    "# Compare to Lindner's table (new fermions)\n",
    "#  \n",
    "Y = Symbol('Y')\n",
    "for D3 in [1, 3, 6, 8]:\n",
    "    for D2 in range(1, 8):\n",
    "        rep = Weyl(D3, D2, Y)\n",
    "        print(rep, \"  {:10s}  {:5s}  {:3s}\".format(*[str((1.5*(rge1L(k, BSMfermions=[rep], num=False)-rge1L(k, num=False))).evalf(3)) for k in [1,2,3]]))"
   ]
  },
  {
   "cell_type": "markdown",
   "metadata": {
    "hidden": true
   },
   "source": [
    "THDM-Scalar septuplet model from SARAH"
   ]
  },
  {
   "cell_type": "code",
   "execution_count": 14,
   "metadata": {
    "collapsed": false,
    "hidden": true
   },
   "outputs": [
    {
     "data": {
      "text/latex": [
       "$$\\left [ \\frac{21}{5}, \\quad \\frac{5}{3}, \\quad -7\\right ]$$"
      ],
      "text/plain": [
       "[21/5, 5/3, -7]"
      ]
     },
     "execution_count": 14,
     "metadata": {},
     "output_type": "execute_result"
    }
   ],
   "source": [
    "# SARAH =  [21/5, 5/3, -7]\n",
    "[rge1L(k, BSMscalars=[ComplexScalar(1, 2, 1), RealScalar(1, 7, 0)]).subs({ng: 3, nh: 1}) for k in [1,2,3]]"
   ]
  },
  {
   "cell_type": "markdown",
   "metadata": {
    "heading_collapsed": true,
    "hidden": true
   },
   "source": [
    "### Testing two loop RGE coefs with SARAH"
   ]
  },
  {
   "cell_type": "markdown",
   "metadata": {
    "heading_collapsed": true,
    "hidden": true
   },
   "source": [
    "#### SM "
   ]
  },
  {
   "cell_type": "code",
   "execution_count": 15,
   "metadata": {
    "collapsed": false,
    "hidden": true
   },
   "outputs": [
    {
     "data": {
      "text/latex": [
       "$$\\left [ \\frac{11}{10}, \\quad \\frac{9}{2}, \\quad -26\\right ]$$"
      ],
      "text/plain": [
       "⎡11          ⎤\n",
       "⎢──, 9/2, -26⎥\n",
       "⎣10          ⎦"
      ]
     },
     "execution_count": 15,
     "metadata": {},
     "output_type": "execute_result"
    }
   ],
   "source": [
    "[Rational(n,-10) for n in [-11, -45, 260]]"
   ]
  },
  {
   "cell_type": "code",
   "execution_count": 16,
   "metadata": {
    "collapsed": false,
    "hidden": true
   },
   "outputs": [
    {
     "data": {
      "text/latex": [
       "$$\\left [ \\frac{11}{10}, \\quad \\frac{9}{2}, \\quad -26\\right ]$$"
      ],
      "text/plain": [
       "⎡11          ⎤\n",
       "⎢──, 9/2, -26⎥\n",
       "⎣10          ⎦"
      ]
     },
     "execution_count": 16,
     "metadata": {},
     "output_type": "execute_result"
    }
   ],
   "source": [
    "[rge2L(3, k).subs(ng, 3) for k in [1,2,3]]"
   ]
  },
  {
   "cell_type": "code",
   "execution_count": 17,
   "metadata": {
    "collapsed": false,
    "hidden": true
   },
   "outputs": [
    {
     "data": {
      "text/latex": [
       "$$\\left [ \\frac{9}{10}, \\quad \\frac{35}{6}, \\quad 12\\right ]$$"
      ],
      "text/plain": [
       "[9/10, 35/6, 12]"
      ]
     },
     "execution_count": 17,
     "metadata": {},
     "output_type": "execute_result"
    }
   ],
   "source": [
    "[Rational(n,30) for n in [27, 175, 360]]"
   ]
  },
  {
   "cell_type": "code",
   "execution_count": 18,
   "metadata": {
    "collapsed": false,
    "hidden": true
   },
   "outputs": [
    {
     "data": {
      "text/latex": [
       "$$\\left [ \\frac{9}{10}, \\quad \\frac{35}{6}, \\quad 12\\right ]$$"
      ],
      "text/plain": [
       "[9/10, 35/6, 12]"
      ]
     },
     "execution_count": 18,
     "metadata": {},
     "output_type": "execute_result"
    }
   ],
   "source": [
    "[rge2L(2, k).subs({ng: 3, nh:1}) for k in [1,2,3]]"
   ]
  },
  {
   "cell_type": "code",
   "execution_count": 19,
   "metadata": {
    "collapsed": false,
    "hidden": true
   },
   "outputs": [
    {
     "data": {
      "text/latex": [
       "$$\\left [ \\frac{199}{50}, \\quad \\frac{27}{10}, \\quad \\frac{44}{5}\\right ]$$"
      ],
      "text/plain": [
       "⎡199  27      ⎤\n",
       "⎢───, ──, 44/5⎥\n",
       "⎣ 50  10      ⎦"
      ]
     },
     "execution_count": 19,
     "metadata": {},
     "output_type": "execute_result"
    }
   ],
   "source": [
    "[Rational(n,50) for n in [199, 135, 440]]"
   ]
  },
  {
   "cell_type": "code",
   "execution_count": 20,
   "metadata": {
    "collapsed": false,
    "hidden": true
   },
   "outputs": [
    {
     "data": {
      "text/latex": [
       "$$\\left [ \\frac{199}{50}, \\quad \\frac{27}{10}, \\quad \\frac{44}{5}\\right ]$$"
      ],
      "text/plain": [
       "⎡199  27      ⎤\n",
       "⎢───, ──, 44/5⎥\n",
       "⎣ 50  10      ⎦"
      ]
     },
     "execution_count": 20,
     "metadata": {},
     "output_type": "execute_result"
    }
   ],
   "source": [
    "[rge2L(1, k).subs({ng: 3, nh:1}) for k in [1,2,3]]"
   ]
  },
  {
   "cell_type": "code",
   "execution_count": 21,
   "metadata": {
    "collapsed": false,
    "hidden": true
   },
   "outputs": [
    {
     "data": {
      "text/plain": [
       "array([[  3.98      ,   2.7       ,   8.8       ],\n",
       "       [  0.9       ,   5.83333333,  12.        ],\n",
       "       [  1.1       ,   4.5       , -26.        ]])"
      ]
     },
     "execution_count": 21,
     "metadata": {},
     "output_type": "execute_result"
    }
   ],
   "source": [
    "rge2LM()"
   ]
  },
  {
   "cell_type": "markdown",
   "metadata": {
    "heading_collapsed": true,
    "hidden": true
   },
   "source": [
    "#### THDM-Septuplet"
   ]
  },
  {
   "cell_type": "code",
   "execution_count": 22,
   "metadata": {
    "collapsed": false,
    "hidden": true
   },
   "outputs": [
    {
     "data": {
      "text/latex": [
       "$$\\left [ \\frac{104}{25}, \\quad \\frac{18}{5}, \\quad \\frac{44}{5}\\right ]$$"
      ],
      "text/plain": [
       "⎡104            ⎤\n",
       "⎢───, 18/5, 44/5⎥\n",
       "⎣ 25            ⎦"
      ]
     },
     "execution_count": 22,
     "metadata": {},
     "output_type": "execute_result"
    }
   ],
   "source": [
    "[Rational(n,50) for n in [208, 180, 440]]   # SARAH"
   ]
  },
  {
   "cell_type": "code",
   "execution_count": 23,
   "metadata": {
    "collapsed": false,
    "hidden": true
   },
   "outputs": [
    {
     "data": {
      "text/latex": [
       "$$\\left [ \\frac{104}{25}, \\quad \\frac{18}{5}, \\quad \\frac{44}{5}\\right ]$$"
      ],
      "text/plain": [
       "⎡104            ⎤\n",
       "⎢───, 18/5, 44/5⎥\n",
       "⎣ 25            ⎦"
      ]
     },
     "execution_count": 23,
     "metadata": {},
     "output_type": "execute_result"
    }
   ],
   "source": [
    "[rge2L(1, k, BSMscalars=[ComplexScalar(1, 2, 1), RealScalar(1, 7, 0)]).subs({ng: 3, nh:1}) for k in [1,2,3]]"
   ]
  },
  {
   "cell_type": "code",
   "execution_count": 24,
   "metadata": {
    "collapsed": false,
    "hidden": true
   },
   "outputs": [
    {
     "data": {
      "text/latex": [
       "$$\\left [ \\frac{6}{5}, \\quad \\frac{2096}{3}, \\quad 12\\right ]$$"
      ],
      "text/plain": [
       "[6/5, 2096/3, 12]"
      ]
     },
     "execution_count": 24,
     "metadata": {},
     "output_type": "execute_result"
    }
   ],
   "source": [
    "[Rational(n,30) for n in [36, 20960, 360]]   # SARAH"
   ]
  },
  {
   "cell_type": "code",
   "execution_count": 25,
   "metadata": {
    "collapsed": false,
    "hidden": true
   },
   "outputs": [
    {
     "data": {
      "text/latex": [
       "$$\\left [ \\frac{6}{5}, \\quad \\frac{2096}{3}, \\quad 12\\right ]$$"
      ],
      "text/plain": [
       "[6/5, 2096/3, 12]"
      ]
     },
     "execution_count": 25,
     "metadata": {},
     "output_type": "execute_result"
    }
   ],
   "source": [
    "[rge2L(2, k, BSMscalars=[ComplexScalar(1, 2, 1), RealScalar(1, 7, 0)]).subs({ng: 3, nh:1}) for k in [1,2,3]]"
   ]
  },
  {
   "cell_type": "code",
   "execution_count": 26,
   "metadata": {
    "collapsed": false,
    "hidden": true
   },
   "outputs": [
    {
     "data": {
      "text/latex": [
       "$$\\left [ \\frac{11}{10}, \\quad \\frac{9}{2}, \\quad -26\\right ]$$"
      ],
      "text/plain": [
       "⎡11          ⎤\n",
       "⎢──, 9/2, -26⎥\n",
       "⎣10          ⎦"
      ]
     },
     "execution_count": 26,
     "metadata": {},
     "output_type": "execute_result"
    }
   ],
   "source": [
    "[Rational(n,-10) for n in [-11, -45, 260]]  # SARAH"
   ]
  },
  {
   "cell_type": "code",
   "execution_count": 27,
   "metadata": {
    "collapsed": false,
    "hidden": true
   },
   "outputs": [
    {
     "data": {
      "text/latex": [
       "$$\\left [ \\frac{11}{10}, \\quad \\frac{9}{2}, \\quad -26\\right ]$$"
      ],
      "text/plain": [
       "⎡11          ⎤\n",
       "⎢──, 9/2, -26⎥\n",
       "⎣10          ⎦"
      ]
     },
     "execution_count": 27,
     "metadata": {},
     "output_type": "execute_result"
    }
   ],
   "source": [
    "[rge2L(3, k, BSMscalars=[ComplexScalar(1, 2, 1), RealScalar(1, 7, 0)]).subs({ng: 3, nh:1}) for k in [1,2,3]]"
   ]
  },
  {
   "cell_type": "markdown",
   "metadata": {
    "heading_collapsed": true,
    "hidden": true
   },
   "source": [
    "#### Vectorlike-BotomY model"
   ]
  },
  {
   "cell_type": "markdown",
   "metadata": {
    "hidden": true
   },
   "source": [
    "This model has one generation of vector-like quark doublets"
   ]
  },
  {
   "cell_type": "code",
   "execution_count": 28,
   "metadata": {
    "collapsed": false,
    "hidden": true
   },
   "outputs": [
    {
     "data": {
      "text/latex": [
       "$$\\left [ \\frac{223}{30}, \\quad - \\frac{7}{6}, \\quad - \\frac{17}{3}\\right ]$$"
      ],
      "text/plain": [
       "⎡223             ⎤\n",
       "⎢───, -7/6, -17/3⎥\n",
       "⎣ 30             ⎦"
      ]
     },
     "execution_count": 28,
     "metadata": {},
     "output_type": "execute_result"
    }
   ],
   "source": [
    "[Rational(223, 30), Rational(-7, 6), Rational(-17, 3)] # SARAH"
   ]
  },
  {
   "cell_type": "code",
   "execution_count": 29,
   "metadata": {
    "collapsed": false,
    "hidden": true
   },
   "outputs": [
    {
     "data": {
      "text/latex": [
       "$$\\left [ \\frac{223}{30}, \\quad - \\frac{7}{6}, \\quad - \\frac{17}{3}\\right ]$$"
      ],
      "text/plain": [
       "⎡223             ⎤\n",
       "⎢───, -7/6, -17/3⎥\n",
       "⎣ 30             ⎦"
      ]
     },
     "execution_count": 29,
     "metadata": {},
     "output_type": "execute_result"
    }
   ],
   "source": [
    "[rge1L(k, BSMfermions=[Weyl(3, 2, Rational(-5,3)), Weyl(3, 2, Rational(5,3))]).subs({ng: 3, nh: 1}) for k in [1,2,3]]"
   ]
  },
  {
   "cell_type": "code",
   "execution_count": 30,
   "metadata": {
    "collapsed": false,
    "hidden": true
   },
   "outputs": [
    {
     "data": {
      "text/latex": [
       "$$\\left [ \\frac{611}{75}, \\quad \\frac{51}{5}, \\quad \\frac{332}{15}\\right ]$$"
      ],
      "text/plain": [
       "⎡611        332⎤\n",
       "⎢───, 51/5, ───⎥\n",
       "⎣ 75         15⎦"
      ]
     },
     "execution_count": 30,
     "metadata": {},
     "output_type": "execute_result"
    }
   ],
   "source": [
    "[Rational(n,150) for n in [1222, 1530, 3320]] # SARAH"
   ]
  },
  {
   "cell_type": "code",
   "execution_count": 31,
   "metadata": {
    "collapsed": false,
    "hidden": true
   },
   "outputs": [
    {
     "data": {
      "text/latex": [
       "$$\\left [ \\frac{611}{75}, \\quad \\frac{51}{5}, \\quad \\frac{332}{15}\\right ]$$"
      ],
      "text/plain": [
       "⎡611        332⎤\n",
       "⎢───, 51/5, ───⎥\n",
       "⎣ 75         15⎦"
      ]
     },
     "execution_count": 31,
     "metadata": {},
     "output_type": "execute_result"
    }
   ],
   "source": [
    "[rge2L(1, k, BSMfermions=[Weyl(3, 2, Rational(-5,3)), Weyl(3, 2, Rational(5,3))]).subs({ng: 3, nh: 1}) for k in [1,2,3]]"
   ]
  },
  {
   "cell_type": "code",
   "execution_count": 32,
   "metadata": {
    "collapsed": false,
    "hidden": true
   },
   "outputs": [
    {
     "data": {
      "text/latex": [
       "$$\\left [ \\frac{17}{5}, \\quad \\frac{91}{3}, \\quad 20\\right ]$$"
      ],
      "text/plain": [
       "[17/5, 91/3, 20]"
      ]
     },
     "execution_count": 32,
     "metadata": {},
     "output_type": "execute_result"
    }
   ],
   "source": [
    "[Rational(n,30) for n in [102, 910, 600]] # SARAH"
   ]
  },
  {
   "cell_type": "code",
   "execution_count": 33,
   "metadata": {
    "collapsed": false,
    "hidden": true
   },
   "outputs": [
    {
     "data": {
      "text/latex": [
       "$$\\left [ \\frac{17}{5}, \\quad \\frac{91}{3}, \\quad 20\\right ]$$"
      ],
      "text/plain": [
       "[17/5, 91/3, 20]"
      ]
     },
     "execution_count": 33,
     "metadata": {},
     "output_type": "execute_result"
    }
   ],
   "source": [
    "[rge2L(2, k, BSMfermions=[Weyl(3, 2, Rational(-5,3)), Weyl(3, 2, Rational(5,3))]).subs({ng: 3, nh: 1}) for k in [1,2,3]]"
   ]
  },
  {
   "cell_type": "code",
   "execution_count": 34,
   "metadata": {
    "collapsed": false,
    "hidden": true
   },
   "outputs": [
    {
     "data": {
      "text/latex": [
       "$$\\left [ \\frac{83}{30}, \\quad \\frac{15}{2}, \\quad - \\frac{2}{3}\\right ]$$"
      ],
      "text/plain": [
       "⎡83            ⎤\n",
       "⎢──, 15/2, -2/3⎥\n",
       "⎣30            ⎦"
      ]
     },
     "execution_count": 34,
     "metadata": {},
     "output_type": "execute_result"
    }
   ],
   "source": [
    "[Rational(n,30) for n in [83, 225, -20]] # SARAH"
   ]
  },
  {
   "cell_type": "code",
   "execution_count": 35,
   "metadata": {
    "collapsed": false,
    "hidden": true
   },
   "outputs": [
    {
     "data": {
      "text/latex": [
       "$$\\left [ \\frac{83}{30}, \\quad \\frac{15}{2}, \\quad - \\frac{2}{3}\\right ]$$"
      ],
      "text/plain": [
       "⎡83            ⎤\n",
       "⎢──, 15/2, -2/3⎥\n",
       "⎣30            ⎦"
      ]
     },
     "execution_count": 35,
     "metadata": {},
     "output_type": "execute_result"
    }
   ],
   "source": [
    "[rge2L(3, k, BSMfermions=[Weyl(3, 2, Rational(-5,3)), Weyl(3, 2, Rational(5,3))]).subs({ng: 3, nh: 1}) for k in [1,2,3]]"
   ]
  },
  {
   "cell_type": "markdown",
   "metadata": {
    "heading_collapsed": true
   },
   "source": [
    "## Landau poles for various models"
   ]
  },
  {
   "cell_type": "markdown",
   "metadata": {
    "heading_collapsed": true,
    "hidden": true
   },
   "source": [
    "### Definitions and initial values"
   ]
  },
  {
   "cell_type": "markdown",
   "metadata": {
    "hidden": true
   },
   "source": [
    "To find pole we search for zero of $\\alpha_{i}^{-1}$, using  formula\n",
    "$$ \\frac{d\\alpha_{i}^{-1}}{d t} = - a_i + \\frac{b_{ij}}{4\\pi\\alpha_{j}^{-1}}$$"
   ]
  },
  {
   "cell_type": "markdown",
   "metadata": {
    "hidden": true
   },
   "source": [
    "Proper procedure to numerically find zero:\n",
    "https://mail.scipy.org/pipermail/scipy-user/2005-March/004248.html\n",
    "\n",
    "We'll use more primitive one, just graphically checking that abscissa is crossed and then looking for smallest alpha."
   ]
  },
  {
   "cell_type": "code",
   "execution_count": 36,
   "metadata": {
    "collapsed": true,
    "hidden": true
   },
   "outputs": [],
   "source": [
    "# Starting point for all evolutions\n",
    "MZ = 91.188\n",
    "alpha3_0 = 0.1173\n",
    "alpha2_0 = 0.03374  \n",
    "alpha1_0 = 0.016923\n",
    "y0 = np.array([1/alpha1_0, 1/alpha2_0, 1/alpha3_0])"
   ]
  },
  {
   "cell_type": "code",
   "execution_count": 37,
   "metadata": {
    "collapsed": true,
    "hidden": true
   },
   "outputs": [],
   "source": [
    "def t(mu):\n",
    "    \"\"\"Evolution variable t in terms of mu [Gev].\"\"\"\n",
    "    return math.log(mu/MZ)/(2*pi)\n",
    "\n",
    "def mu(t):\n",
    "    \"\"\"Inverse of t(mu)\"\"\"\n",
    "    return MZ*math.exp(2*pi*t)"
   ]
  },
  {
   "cell_type": "code",
   "execution_count": 38,
   "metadata": {
    "collapsed": false,
    "hidden": true
   },
   "outputs": [],
   "source": [
    "def precalcRGE(thresholds=[]):\n",
    "    \"\"\"Precalculates RGE coeffs.\n",
    "    \n",
    "    Element of thresholds list: (mu, [irrep1, irrep2, ...])\n",
    "    with irreps entering evolution at scale mu [GeV].\n",
    "    mu's should increase along the list.\n",
    "    Returns: array of t-thresholds and corresponding\n",
    "             arrays of RGE coeffs -a_i and\n",
    "             matrices b_ij / (4pi).\n",
    "    \"\"\"\n",
    "    ts = [t(MZ)]\n",
    "    cRGE = [(-rge1LM(), -rge2LM()/(4*pi))]\n",
    "    active_BSM_fermions = []\n",
    "    active_BSM_scalars = []\n",
    "    thresholds.sort(key=lambda it: it[0])\n",
    "    for mu, reps in thresholds:\n",
    "        if type(reps) != list: reps=[reps]\n",
    "        for rep in reps:\n",
    "            if rep.__class__.__name__[-4:] == 'alar':\n",
    "                active_BSM_scalars.append(rep)\n",
    "            else:\n",
    "                active_BSM_fermions.append(rep)\n",
    "        ts.append(t(mu))\n",
    "        cRGE.append((-rge1LM(BSMfermions=active_BSM_fermions, BSMscalars=active_BSM_scalars), -rge2LM(BSMfermions=active_BSM_fermions, BSMscalars=active_BSM_scalars)/(4*pi)))\n",
    "    return np.array(ts), cRGE"
   ]
  },
  {
   "cell_type": "code",
   "execution_count": 39,
   "metadata": {
    "collapsed": true,
    "hidden": true
   },
   "outputs": [],
   "source": [
    "def rgefig(ts, ys):    \n",
    "    logms = np.array([math.log10(mu(t)) for t in ts])\n",
    "    fig, ax = plt.subplots(figsize=[4,3])\n",
    "    ax.plot(logms, ys[:,0], 'b--', label=r'$\\alpha_{1}^{-1}$')\n",
    "    ax.plot(logms, ys[:,1], 'r-', label=r'$\\alpha_{2}^{-1}$')\n",
    "    props = dict(color=\"green\", linestyle=\"-\", linewidth=1)\n",
    "    ax.axhline(y=0, **props)\n",
    "    ax.set_ylabel(r'$\\alpha_{i}^{-1}$', fontsize='14')\n",
    "    ax.set_xlabel(r'$\\log_{10}(\\mu/{\\rm GeV})$', fontsize='14')\n",
    "    ax.legend(loc='upper right').draw_frame(0)\n",
    "    plt.show()"
   ]
  },
  {
   "cell_type": "markdown",
   "metadata": {
    "heading_collapsed": true,
    "hidden": true
   },
   "source": [
    "### SM"
   ]
  },
  {
   "cell_type": "code",
   "execution_count": 40,
   "metadata": {
    "collapsed": false,
    "hidden": true
   },
   "outputs": [],
   "source": [
    "threshs, cRGE = precalcRGE()\n",
    "def func(y, t):\n",
    "    c0, c1 = cRGE[np.searchsorted(threshs, t)-1]\n",
    "    return c0 + c1.dot(1/y)"
   ]
  },
  {
   "cell_type": "code",
   "execution_count": 41,
   "metadata": {
    "collapsed": false,
    "hidden": true
   },
   "outputs": [],
   "source": [
    "muend = mH/2  \n",
    "ts = np.linspace(0, t(muend), 1000)\n",
    "ys = odeint(func, y0, ts)"
   ]
  },
  {
   "cell_type": "code",
   "execution_count": 42,
   "metadata": {
    "collapsed": false,
    "hidden": true
   },
   "outputs": [
    {
     "name": "stdout",
     "output_type": "stream",
     "text": [
      "1/alpha(MZ) = 128.57088269619518\n",
      "1/alpha(mH/2) = 126.52032427592938\n"
     ]
    }
   ],
   "source": [
    "print(\"1/alpha(MZ) = {}\".format(ys[0][0]/cw2*(5/3)))\n",
    "print(\"1/alpha(mH/2) = {}\".format(ys[-1][0]/cw2*(5/3)))"
   ]
  },
  {
   "cell_type": "markdown",
   "metadata": {
    "heading_collapsed": true,
    "hidden": true
   },
   "source": [
    "### SM + Weyl (1,5,0)"
   ]
  },
  {
   "cell_type": "code",
   "execution_count": 43,
   "metadata": {
    "collapsed": true,
    "hidden": true
   },
   "outputs": [],
   "source": [
    "threshs, cRGE = precalcRGE(thresholds=[(1e4, Weyl(1,5,0))])"
   ]
  },
  {
   "cell_type": "code",
   "execution_count": 44,
   "metadata": {
    "collapsed": false,
    "hidden": true
   },
   "outputs": [],
   "source": [
    "def func(y, t, twoloop=True):\n",
    "    \"\"\"Derivative of inverse alpha.\n",
    "    d inv_alpha/dt = c0 + c1/inv_alpha\n",
    "    \"\"\"\n",
    "    c0, c1 = cRGE[np.searchsorted(threshs, t)-1]\n",
    "    if twoloop:\n",
    "        return c0 + c1.dot(1/y)\n",
    "    else:\n",
    "        return c0 "
   ]
  },
  {
   "cell_type": "code",
   "execution_count": 45,
   "metadata": {
    "collapsed": false,
    "hidden": true
   },
   "outputs": [],
   "source": [
    "mu_max = 1e30  # we integrate up to this scale in GeV\n",
    "npts = 1000     # number of integration points\n",
    "ts = np.linspace(0, t(mu_max), npts)"
   ]
  },
  {
   "cell_type": "code",
   "execution_count": 46,
   "metadata": {
    "collapsed": false,
    "hidden": true
   },
   "outputs": [],
   "source": [
    "twoloop = False\n",
    "ys = odeint(func, y0, ts, args=(twoloop,)) "
   ]
  },
  {
   "cell_type": "code",
   "execution_count": 47,
   "metadata": {
    "collapsed": false,
    "hidden": true
   },
   "outputs": [
    {
     "data": {
      "image/png": "[encoded data removed]",
      "text/plain": [
       "<matplotlib.figure.Figure at 0x7fec46d63240>"
      ]
     },
     "metadata": {},
     "output_type": "display_data"
    }
   ],
   "source": [
    "rgefig(ts, ys)"
   ]
  },
  {
   "cell_type": "code",
   "execution_count": 48,
   "metadata": {
    "collapsed": false,
    "hidden": true
   },
   "outputs": [
    {
     "name": "stdout",
     "output_type": "stream",
     "text": [
      "One-loop pole is at 9e+28 GeV.\n"
     ]
    }
   ],
   "source": [
    "print(\"One-loop pole is at {:.1g} GeV.\".format(mu(ts[abs(ys[:,1]).argmin()])))"
   ]
  },
  {
   "cell_type": "markdown",
   "metadata": {
    "hidden": true
   },
   "source": [
    "This is in nice agreement with Di Luzio et al's 9e28. arXiv:[1504.00359](http://www.arXiv.org/abs/1504.00359)"
   ]
  },
  {
   "cell_type": "code",
   "execution_count": 49,
   "metadata": {
    "collapsed": false,
    "hidden": true
   },
   "outputs": [],
   "source": [
    "mu_max = 3.5e21  # we integrate up to this scale in GeV\n",
    "npts = 1000     # number of integration points\n",
    "ts = np.linspace(0, t(mu_max), npts)"
   ]
  },
  {
   "cell_type": "code",
   "execution_count": 50,
   "metadata": {
    "collapsed": false,
    "hidden": true
   },
   "outputs": [],
   "source": [
    "twoloop = True\n",
    "ys = odeint(func, y0, ts, args=(twoloop,)) "
   ]
  },
  {
   "cell_type": "code",
   "execution_count": 51,
   "metadata": {
    "collapsed": false,
    "hidden": true
   },
   "outputs": [
    {
     "data": {
      "image/png": "[encoded data removed]",
      "text/plain": [
       "<matplotlib.figure.Figure at 0x7fec46a3fc18>"
      ]
     },
     "metadata": {},
     "output_type": "display_data"
    }
   ],
   "source": [
    "rgefig(ts, ys)"
   ]
  },
  {
   "cell_type": "code",
   "execution_count": 52,
   "metadata": {
    "collapsed": false,
    "hidden": true
   },
   "outputs": [
    {
     "name": "stdout",
     "output_type": "stream",
     "text": [
      "Two-loop pole is at 3.5e+21 GeV.\n"
     ]
    }
   ],
   "source": [
    "print(\"Two-loop pole is at {:.2g} GeV.\".format(mu(ts[abs(ys[:,1]).argmin()])))"
   ]
  },
  {
   "cell_type": "markdown",
   "metadata": {
    "hidden": true
   },
   "source": [
    "This is in nice agreement with Di Luzio et al. who have 4e21 GeV"
   ]
  },
  {
   "cell_type": "markdown",
   "metadata": {
    "heading_collapsed": true,
    "hidden": true
   },
   "source": [
    "### SM + real scalar (1,7,0)"
   ]
  },
  {
   "cell_type": "code",
   "execution_count": 53,
   "metadata": {
    "collapsed": true,
    "hidden": true
   },
   "outputs": [],
   "source": [
    "threshs, cRGE = precalcRGE(thresholds=[(2.5e4, RealScalar(1,7,0))])"
   ]
  },
  {
   "cell_type": "code",
   "execution_count": 54,
   "metadata": {
    "collapsed": false,
    "hidden": true
   },
   "outputs": [],
   "source": [
    "def func(y, t, twoloop=True):\n",
    "    \"\"\"Derivative of inverse alpha.\n",
    "    d inv_alpha/dt = c0 + c1/inv_alpha\n",
    "    \"\"\"\n",
    "    c0, c1 = cRGE[np.searchsorted(threshs, t)-1]\n",
    "    if twoloop:\n",
    "        return c0 + c1.dot(1/y)\n",
    "    else:\n",
    "        return c0 "
   ]
  },
  {
   "cell_type": "code",
   "execution_count": 55,
   "metadata": {
    "collapsed": false,
    "hidden": true
   },
   "outputs": [],
   "source": [
    "mu_max = 1e42  # we integrate up to this scale in GeV\n",
    "npts = 1000     # number of integration points\n",
    "ts = np.linspace(0, t(mu_max), npts)"
   ]
  },
  {
   "cell_type": "code",
   "execution_count": 56,
   "metadata": {
    "collapsed": false,
    "hidden": true
   },
   "outputs": [],
   "source": [
    "twoloop = False\n",
    "ys = odeint(func, y0, ts, args=(twoloop,)) "
   ]
  },
  {
   "cell_type": "code",
   "execution_count": 57,
   "metadata": {
    "collapsed": false,
    "hidden": true
   },
   "outputs": [
    {
     "data": {
      "image/png": "[encoded data removed]",
      "text/plain": [
       "<matplotlib.figure.Figure at 0x7fec46d30518>"
      ]
     },
     "metadata": {},
     "output_type": "display_data"
    }
   ],
   "source": [
    "rgefig(ts, ys)"
   ]
  },
  {
   "cell_type": "code",
   "execution_count": 58,
   "metadata": {
    "collapsed": false,
    "hidden": true
   },
   "outputs": [
    {
     "name": "stdout",
     "output_type": "stream",
     "text": [
      "One-loop pole is at 1.9e+41 GeV.\n"
     ]
    }
   ],
   "source": [
    "print(\"One-loop pole is at {:.2g} GeV.\".format(mu(ts[abs(ys[:,0]).argmin()])))"
   ]
  },
  {
   "cell_type": "markdown",
   "metadata": {
    "hidden": true
   },
   "source": [
    "This is in nice agreement with Di Luzio et al's 1.9e41."
   ]
  },
  {
   "cell_type": "code",
   "execution_count": 59,
   "metadata": {
    "collapsed": false,
    "hidden": true
   },
   "outputs": [],
   "source": [
    "mu_max = 7.4e20  # we integrate up to this scale in GeV\n",
    "npts = 3000     # number of integration points\n",
    "ts = np.linspace(0, t(mu_max), npts)"
   ]
  },
  {
   "cell_type": "code",
   "execution_count": 60,
   "metadata": {
    "collapsed": false,
    "hidden": true
   },
   "outputs": [],
   "source": [
    "twoloop = True\n",
    "ys = odeint(func, y0, ts, args=(twoloop,)) "
   ]
  },
  {
   "cell_type": "code",
   "execution_count": 61,
   "metadata": {
    "collapsed": false,
    "hidden": true
   },
   "outputs": [
    {
     "data": {
      "image/png": "[encoded data removed]",
      "text/plain": [
       "<matplotlib.figure.Figure at 0x7fec469740f0>"
      ]
     },
     "metadata": {},
     "output_type": "display_data"
    }
   ],
   "source": [
    "rgefig(ts, ys)"
   ]
  },
  {
   "cell_type": "code",
   "execution_count": 62,
   "metadata": {
    "collapsed": false,
    "hidden": true
   },
   "outputs": [
    {
     "name": "stdout",
     "output_type": "stream",
     "text": [
      "Two-loop pole is at 7.4e+20 GeV.\n"
     ]
    }
   ],
   "source": [
    "print(\"Two-loop pole is at {:.2g} GeV.\".format(mu(ts[abs(ys[:,1]).argmin()])))"
   ]
  },
  {
   "cell_type": "markdown",
   "metadata": {
    "hidden": true
   },
   "source": [
    "This is in nice agreement with Di Luzio et al. who have 8.9e20 GeV"
   ]
  },
  {
   "cell_type": "markdown",
   "metadata": {
    "heading_collapsed": true,
    "hidden": true
   },
   "source": [
    "### Ahriche et al model"
   ]
  },
  {
   "cell_type": "code",
   "execution_count": 63,
   "metadata": {
    "collapsed": false,
    "hidden": true
   },
   "outputs": [],
   "source": [
    "threshs, cRGE = precalcRGE(thresholds=[(0.5e3, ComplexScalar(1,1,2)), (20e3, Weyl(1,7,0,ng)), (5*20e3, RealScalar(1,7,2))])"
   ]
  },
  {
   "cell_type": "code",
   "execution_count": 64,
   "metadata": {
    "collapsed": false,
    "hidden": true
   },
   "outputs": [],
   "source": [
    "def func(y, t, twoloop=True):\n",
    "    \"\"\"Derivative of inverse alpha.\n",
    "    d inv_alpha/dt = c0 + c1/inv_alpha\n",
    "    \"\"\"\n",
    "    c0, c1 = cRGE[np.searchsorted(threshs, t)-1]\n",
    "    if twoloop:\n",
    "        return c0 + c1.dot(1/y)\n",
    "    else:\n",
    "        return c0 "
   ]
  },
  {
   "cell_type": "markdown",
   "metadata": {
    "hidden": true
   },
   "source": [
    "#### One-loop RGE running"
   ]
  },
  {
   "cell_type": "code",
   "execution_count": 65,
   "metadata": {
    "collapsed": false,
    "hidden": true
   },
   "outputs": [],
   "source": [
    "mu_max = 1e6  # we integrate up to this scale in GeV\n",
    "npts = 1000     # number of integration points\n",
    "ts = np.linspace(0, t(mu_max), npts)"
   ]
  },
  {
   "cell_type": "code",
   "execution_count": 66,
   "metadata": {
    "collapsed": false,
    "hidden": true
   },
   "outputs": [],
   "source": [
    "twoloop = False\n",
    "ys = odeint(func, y0, ts, args=(twoloop,)) "
   ]
  },
  {
   "cell_type": "code",
   "execution_count": 67,
   "metadata": {
    "collapsed": false,
    "hidden": true
   },
   "outputs": [
    {
     "data": {
      "image/png": "[encoded data removed]",
      "text/plain": [
       "<matplotlib.figure.Figure at 0x7fec4692d518>"
      ]
     },
     "metadata": {},
     "output_type": "display_data"
    }
   ],
   "source": [
    "rgefig(ts, ys)"
   ]
  },
  {
   "cell_type": "code",
   "execution_count": 68,
   "metadata": {
    "collapsed": false,
    "hidden": true
   },
   "outputs": [
    {
     "name": "stdout",
     "output_type": "stream",
     "text": [
      "One-loop pole is at 7.8e+05 GeV.\n"
     ]
    }
   ],
   "source": [
    "print(\"One-loop pole is at {:.2g} GeV.\".format(mu(ts[abs(ys[:,1]).argmin()])))"
   ]
  },
  {
   "cell_type": "markdown",
   "metadata": {
    "hidden": true
   },
   "source": [
    "#### Two-loop RGE running"
   ]
  },
  {
   "cell_type": "code",
   "execution_count": 69,
   "metadata": {
    "collapsed": false,
    "hidden": true
   },
   "outputs": [],
   "source": [
    "mu_max = 2.83e5  # we integrate up to this scale in GeV\n",
    "npts = 2000     # number of integration points\n",
    "ts = np.linspace(0, t(mu_max), npts)"
   ]
  },
  {
   "cell_type": "code",
   "execution_count": 70,
   "metadata": {
    "collapsed": false,
    "hidden": true
   },
   "outputs": [],
   "source": [
    "twoloop = True\n",
    "ys = odeint(func, y0, ts, args=(twoloop,)) "
   ]
  },
  {
   "cell_type": "code",
   "execution_count": 71,
   "metadata": {
    "collapsed": false,
    "hidden": true
   },
   "outputs": [
    {
     "data": {
      "image/png": "[encoded data removed]",
      "text/plain": [
       "<matplotlib.figure.Figure at 0x7fec46a01128>"
      ]
     },
     "metadata": {},
     "output_type": "display_data"
    }
   ],
   "source": [
    "rgefig(ts, ys)"
   ]
  },
  {
   "cell_type": "code",
   "execution_count": 72,
   "metadata": {
    "collapsed": false,
    "hidden": true
   },
   "outputs": [
    {
     "name": "stdout",
     "output_type": "stream",
     "text": [
      "Two-loop pole is at 2.8e+05 GeV.\n"
     ]
    }
   ],
   "source": [
    "print(\"Two-loop pole is at {:.2g} GeV.\".format(mu(ts[abs(ys[:,1]).argmin()])))"
   ]
  },
  {
   "cell_type": "markdown",
   "metadata": {
    "collapsed": true,
    "hidden": true
   },
   "source": [
    "This is factor 2 below Aristizabal Sierra et al's 6e5 GeV from their Fig. 6."
   ]
  },
  {
   "cell_type": "markdown",
   "metadata": {
    "heading_collapsed": true,
    "hidden": true
   },
   "source": [
    "### Triplet neutrino mass model"
   ]
  },
  {
   "cell_type": "code",
   "execution_count": 73,
   "metadata": {
    "collapsed": false,
    "hidden": true
   },
   "outputs": [],
   "source": [
    "threshs, cRGE = precalcRGE(thresholds=[(0.375e3, ComplexScalar(1,1,2)), (0.375e3, Weyl(1,2,1, ng)), (0.375e3, Weyl(1,2,-1, ng)), (0.375e3, RealScalar(1,3,0))])"
   ]
  },
  {
   "cell_type": "code",
   "execution_count": 74,
   "metadata": {
    "collapsed": false,
    "hidden": true
   },
   "outputs": [],
   "source": [
    "def func(y, t, twoloop=True):\n",
    "    \"\"\"Derivative of inverse alpha.\n",
    "    d inv_alpha/dt = c0 + c1/inv_alpha\n",
    "    \"\"\"\n",
    "    c0, c1 = cRGE[np.searchsorted(threshs, t)-1]\n",
    "    if twoloop:\n",
    "        return c0 + c1.dot(1/y)\n",
    "    else:\n",
    "        return c0 "
   ]
  },
  {
   "cell_type": "markdown",
   "metadata": {
    "hidden": true
   },
   "source": [
    "#### One-loop RGE running"
   ]
  },
  {
   "cell_type": "code",
   "execution_count": 75,
   "metadata": {
    "collapsed": false,
    "hidden": true
   },
   "outputs": [],
   "source": [
    "mu_max = 1e33  # we integrate up to this scale in GeV\n",
    "npts = 1000     # number of integration points\n",
    "ts = np.linspace(0, t(mu_max), npts)"
   ]
  },
  {
   "cell_type": "code",
   "execution_count": 76,
   "metadata": {
    "collapsed": false,
    "hidden": true
   },
   "outputs": [],
   "source": [
    "twoloop = False\n",
    "ys = odeint(func, y0, ts, args=(twoloop,)) "
   ]
  },
  {
   "cell_type": "code",
   "execution_count": 77,
   "metadata": {
    "collapsed": false,
    "hidden": true
   },
   "outputs": [
    {
     "data": {
      "image/png": "[encoded data removed]",
      "text/plain": [
       "<matplotlib.figure.Figure at 0x7fec46d377b8>"
      ]
     },
     "metadata": {},
     "output_type": "display_data"
    }
   ],
   "source": [
    "rgefig(ts, ys)"
   ]
  },
  {
   "cell_type": "code",
   "execution_count": 78,
   "metadata": {
    "collapsed": false,
    "hidden": true
   },
   "outputs": [
    {
     "name": "stdout",
     "output_type": "stream",
     "text": [
      "One-loop pole is at 2.8e+31 GeV.\n"
     ]
    }
   ],
   "source": [
    "print(\"One-loop pole is at {:.2g} GeV.\".format(mu(ts[abs(ys[:,0]).argmin()])))"
   ]
  },
  {
   "cell_type": "markdown",
   "metadata": {
    "hidden": true
   },
   "source": [
    "#### Two-loop RGE running"
   ]
  },
  {
   "cell_type": "code",
   "execution_count": 79,
   "metadata": {
    "collapsed": false,
    "hidden": true
   },
   "outputs": [],
   "source": [
    "mu_max = 1e31  # we integrate up to this scale in GeV\n",
    "npts = 1000     # number of integration points\n",
    "ts = np.linspace(0, t(mu_max), npts)"
   ]
  },
  {
   "cell_type": "code",
   "execution_count": 80,
   "metadata": {
    "collapsed": false,
    "hidden": true
   },
   "outputs": [
    {
     "name": "stderr",
     "output_type": "stream",
     "text": [
      "/usr/lib/python3.5/site-packages/scipy/integrate/odepack.py:218: ODEintWarning: Excess work done on this call (perhaps wrong Dfun type). Run with full_output = 1 to get quantitative information.\n",
      "  warnings.warn(warning_msg, ODEintWarning)\n"
     ]
    }
   ],
   "source": [
    "twoloop = True\n",
    "ys = odeint(func, y0, ts, args=(twoloop,)) "
   ]
  },
  {
   "cell_type": "code",
   "execution_count": 81,
   "metadata": {
    "collapsed": false,
    "hidden": true
   },
   "outputs": [
    {
     "data": {
      "image/png": "[encoded data removed]",
      "text/plain": [
       "<matplotlib.figure.Figure at 0x7fec46a5b358>"
      ]
     },
     "metadata": {},
     "output_type": "display_data"
    }
   ],
   "source": [
    "rgefig(ts, ys)"
   ]
  },
  {
   "cell_type": "code",
   "execution_count": 82,
   "metadata": {
    "collapsed": false,
    "hidden": true
   },
   "outputs": [
    {
     "name": "stdout",
     "output_type": "stream",
     "text": [
      "Two-loop pole is at 1e+31 GeV.\n"
     ]
    }
   ],
   "source": [
    "print(\"Two-loop pole is at {:.2g} GeV.\".format(mu(ts[abs(ys[:,0]).argmin()])))"
   ]
  },
  {
   "cell_type": "markdown",
   "metadata": {
    "collapsed": true,
    "hidden": true
   },
   "source": [
    "So we are beyond Planck mass ..."
   ]
  },
  {
   "cell_type": "markdown",
   "metadata": {
    "heading_collapsed": true,
    "hidden": true
   },
   "source": [
    "### ČKP model"
   ]
  },
  {
   "cell_type": "code",
   "execution_count": 83,
   "metadata": {
    "collapsed": false,
    "hidden": true
   },
   "outputs": [],
   "source": [
    "threshs, cRGE = precalcRGE(thresholds=[(1e3, ComplexScalar(1,2,1)), (10e3, Weyl(1,5,0,ng)), (5*10e3, [ComplexScalar(1,5,-2),RealScalar(1,7,0)])])"
   ]
  },
  {
   "cell_type": "code",
   "execution_count": 84,
   "metadata": {
    "collapsed": false,
    "hidden": true
   },
   "outputs": [],
   "source": [
    "def func(y, t, twoloop=True):\n",
    "    \"\"\"Derivative of inverse alpha.\n",
    "    d inv_alpha/dt = c0 + c1/inv_alpha\n",
    "    \"\"\"\n",
    "    c0, c1 = cRGE[np.searchsorted(threshs, t)-1]\n",
    "    if twoloop:\n",
    "        return c0 + c1.dot(1/y)\n",
    "    else:\n",
    "        return c0 "
   ]
  },
  {
   "cell_type": "markdown",
   "metadata": {
    "hidden": true
   },
   "source": [
    "#### One-loop RGE running"
   ]
  },
  {
   "cell_type": "code",
   "execution_count": 85,
   "metadata": {
    "collapsed": false,
    "hidden": true
   },
   "outputs": [],
   "source": [
    "mu_max = 1e8  # we integrate up to this scale in GeV\n",
    "npts = 1000     # number of integration points\n",
    "ts = np.linspace(0, t(mu_max), npts)"
   ]
  },
  {
   "cell_type": "code",
   "execution_count": 86,
   "metadata": {
    "collapsed": false,
    "hidden": true
   },
   "outputs": [],
   "source": [
    "twoloop = False\n",
    "ys = odeint(func, y0, ts, args=(twoloop,)) "
   ]
  },
  {
   "cell_type": "code",
   "execution_count": 87,
   "metadata": {
    "collapsed": false,
    "hidden": true
   },
   "outputs": [
    {
     "data": {
      "image/png": "[encoded data removed]",
      "text/plain": [
       "<matplotlib.figure.Figure at 0x7fec468ab0f0>"
      ]
     },
     "metadata": {},
     "output_type": "display_data"
    }
   ],
   "source": [
    "rgefig(ts, ys)"
   ]
  },
  {
   "cell_type": "code",
   "execution_count": 88,
   "metadata": {
    "collapsed": false,
    "hidden": true
   },
   "outputs": [
    {
     "name": "stdout",
     "output_type": "stream",
     "text": [
      "One-loop pole is at 5.1e+07 GeV.\n"
     ]
    }
   ],
   "source": [
    "print(\"One-loop pole is at {:.2g} GeV.\".format(mu(ts[abs(ys[:,1]).argmin()])))"
   ]
  },
  {
   "cell_type": "markdown",
   "metadata": {
    "hidden": true
   },
   "source": [
    "#### Two-loop RGE running"
   ]
  },
  {
   "cell_type": "code",
   "execution_count": 89,
   "metadata": {
    "collapsed": false,
    "hidden": true
   },
   "outputs": [],
   "source": [
    "mu_max = 4.55e6  # we integrate up to this scale in GeV\n",
    "npts = 1000     # number of integration points\n",
    "ts = np.linspace(0, t(mu_max), npts)"
   ]
  },
  {
   "cell_type": "code",
   "execution_count": 90,
   "metadata": {
    "collapsed": false,
    "hidden": true
   },
   "outputs": [],
   "source": [
    "twoloop = True\n",
    "ys = odeint(func, y0, ts, args=(twoloop,)) "
   ]
  },
  {
   "cell_type": "code",
   "execution_count": 91,
   "metadata": {
    "collapsed": false,
    "hidden": true
   },
   "outputs": [
    {
     "data": {
      "image/png": "[encoded data removed]",
      "text/plain": [
       "<matplotlib.figure.Figure at 0x7fec4691f400>"
      ]
     },
     "metadata": {},
     "output_type": "display_data"
    }
   ],
   "source": [
    "rgefig(ts, ys)"
   ]
  },
  {
   "cell_type": "code",
   "execution_count": 92,
   "metadata": {
    "collapsed": false,
    "hidden": true
   },
   "outputs": [
    {
     "name": "stdout",
     "output_type": "stream",
     "text": [
      "Two-loop pole is at 4.6e+06 GeV.\n"
     ]
    }
   ],
   "source": [
    "print(\"Two-loop pole is at {:.2g} GeV.\".format(mu(ts[abs(ys[:,1]).argmin()])))"
   ]
  },
  {
   "cell_type": "markdown",
   "metadata": {
    "hidden": true
   },
   "source": [
    "This agrees with Aristizabal Sierra et al's 5.e6 GeV."
   ]
  },
  {
   "cell_type": "markdown",
   "metadata": {
    "heading_collapsed": true,
    "hidden": true
   },
   "source": [
    "### ČKP model (with low-lying 5-plet scalar)"
   ]
  },
  {
   "cell_type": "code",
   "execution_count": 93,
   "metadata": {
    "collapsed": false,
    "hidden": true
   },
   "outputs": [],
   "source": [
    "threshs, cRGE = precalcRGE(thresholds=[(400, ComplexScalar(1,5,-2)), (750, ComplexScalar(1,2,1)), (10e3, Weyl(1,5,0,ng)), (5*10e3, RealScalar(1,7,0))])"
   ]
  },
  {
   "cell_type": "code",
   "execution_count": 94,
   "metadata": {
    "collapsed": false,
    "hidden": true
   },
   "outputs": [],
   "source": [
    "def func(y, t, twoloop=True):\n",
    "    \"\"\"Derivative of inverse alpha.\n",
    "    d inv_alpha/dt = c0 + c1/inv_alpha\n",
    "    \"\"\"\n",
    "    c0, c1 = cRGE[np.searchsorted(threshs, t)-1]\n",
    "    if twoloop:\n",
    "        return c0 + c1.dot(1/y)\n",
    "    else:\n",
    "        return c0 "
   ]
  },
  {
   "cell_type": "markdown",
   "metadata": {
    "hidden": true
   },
   "source": [
    "#### Two-loop RGE running"
   ]
  },
  {
   "cell_type": "code",
   "execution_count": 95,
   "metadata": {
    "collapsed": false,
    "hidden": true
   },
   "outputs": [],
   "source": [
    "mu_max = 2.331e6  # we integrate up to this scale in GeV\n",
    "npts = 1000     # number of integration points\n",
    "ts = np.linspace(0, t(mu_max), npts)"
   ]
  },
  {
   "cell_type": "code",
   "execution_count": 96,
   "metadata": {
    "collapsed": false,
    "hidden": true
   },
   "outputs": [],
   "source": [
    "twoloop = True\n",
    "ys = odeint(func, y0, ts, args=(twoloop,)) "
   ]
  },
  {
   "cell_type": "code",
   "execution_count": 97,
   "metadata": {
    "collapsed": false,
    "hidden": true
   },
   "outputs": [
    {
     "data": {
      "image/png": "[encoded data removed]",
      "text/plain": [
       "<matplotlib.figure.Figure at 0x7fec4681e9e8>"
      ]
     },
     "metadata": {},
     "output_type": "display_data"
    }
   ],
   "source": [
    "rgefig(ts, ys)"
   ]
  },
  {
   "cell_type": "code",
   "execution_count": 98,
   "metadata": {
    "collapsed": false,
    "hidden": true
   },
   "outputs": [
    {
     "name": "stdout",
     "output_type": "stream",
     "text": [
      "Two-loop pole is at 2.3e+06 GeV.\n"
     ]
    }
   ],
   "source": [
    "print(\"Two-loop pole is at {:.2g} GeV.\".format(mu(ts[abs(ys[:,1]).argmin()])))"
   ]
  },
  {
   "cell_type": "markdown",
   "metadata": {
    "heading_collapsed": true,
    "hidden": true
   },
   "source": [
    "### ČKP model (with low-lying 5-plet and 7-plet scalars)"
   ]
  },
  {
   "cell_type": "code",
   "execution_count": 99,
   "metadata": {
    "collapsed": false,
    "hidden": true
   },
   "outputs": [],
   "source": [
    "threshs, cRGE = precalcRGE(thresholds=[(400, [ComplexScalar(1,5,-2), RealScalar(1,7,0)]), (750, ComplexScalar(1,2,1)), (10e3, Weyl(1,5,0,ng))])"
   ]
  },
  {
   "cell_type": "code",
   "execution_count": 100,
   "metadata": {
    "collapsed": false,
    "hidden": true
   },
   "outputs": [],
   "source": [
    "def func(y, t, twoloop=True):\n",
    "    \"\"\"Derivative of inverse alpha.\n",
    "    d inv_alpha/dt = c0 + c1/inv_alpha\n",
    "    \"\"\"\n",
    "    c0, c1 = cRGE[np.searchsorted(threshs, t)-1]\n",
    "    if twoloop:\n",
    "        return c0 + c1.dot(1/y)\n",
    "    else:\n",
    "        return c0 "
   ]
  },
  {
   "cell_type": "markdown",
   "metadata": {
    "hidden": true
   },
   "source": [
    "#### Two-loop RGE running"
   ]
  },
  {
   "cell_type": "code",
   "execution_count": 101,
   "metadata": {
    "collapsed": false,
    "hidden": true
   },
   "outputs": [],
   "source": [
    "mu_max = 7.8e5  # we integrate up to this scale in GeV\n",
    "npts = 1000     # number of integration points\n",
    "ts = np.linspace(0, t(mu_max), npts)"
   ]
  },
  {
   "cell_type": "code",
   "execution_count": 102,
   "metadata": {
    "collapsed": false,
    "hidden": true
   },
   "outputs": [],
   "source": [
    "twoloop = True\n",
    "ys = odeint(func, y0, ts, args=(twoloop,)) "
   ]
  },
  {
   "cell_type": "code",
   "execution_count": 103,
   "metadata": {
    "collapsed": false,
    "hidden": true
   },
   "outputs": [
    {
     "data": {
      "image/png": "[encoded data removed]",
      "text/plain": [
       "<matplotlib.figure.Figure at 0x7fec46cdae80>"
      ]
     },
     "metadata": {},
     "output_type": "display_data"
    }
   ],
   "source": [
    "rgefig(ts, ys)"
   ]
  },
  {
   "cell_type": "code",
   "execution_count": 104,
   "metadata": {
    "collapsed": false,
    "hidden": true
   },
   "outputs": [
    {
     "name": "stdout",
     "output_type": "stream",
     "text": [
      "Two-loop pole is at 7.8e+05 GeV.\n"
     ]
    }
   ],
   "source": [
    "print(\"Two-loop pole is at {:.2g} GeV.\".format(mu(ts[abs(ys[:,1]).argmin()])))"
   ]
  },
  {
   "cell_type": "markdown",
   "metadata": {
    "heading_collapsed": true
   },
   "source": [
    "## Automatic search and plotting"
   ]
  },
  {
   "cell_type": "code",
   "execution_count": 105,
   "metadata": {
    "collapsed": false,
    "hidden": true
   },
   "outputs": [],
   "source": [
    "def find_pole(mchi=375, msig=10, mphi=None, mTHD=750, upto=1e10, invpole=1e-4, npts=3000, twoloop=True):\n",
    "    \"\"\"Return Landau pole and  RGE curves for theory.\"\"\"\n",
    "    if not mphi:\n",
    "        mphi = mchi\n",
    "    threshs, cRGE = precalcRGE(thresholds=[(mchi, RealScalar(1,7,0)), (mphi, ComplexScalar(1,5,-2)), (mTHD, ComplexScalar(1,2,1)), (msig*1e3, Weyl(1,5,0,ng))])\n",
    "    def func(y, t):\n",
    "        \"\"\"Derivative of inverse alpha.\n",
    "        d inv_alpha/dt = c0 + c1/inv_alpha\n",
    "        \"\"\"\n",
    "        c0, c1 = cRGE[np.searchsorted(threshs, t)-1]\n",
    "        if twoloop:\n",
    "            return c0 + c1.dot(1/y)\n",
    "        else:\n",
    "            return c0 \n",
    "    ystart = y0\n",
    "    ts = np.linspace(0, t(upto), npts)\n",
    "    while np.any(abs(ystart) > invpole):\n",
    "        ys = odeint(func, y0, ts) \n",
    "        try:\n",
    "            last = np.where(ys<invpole)[0][0]-1   # note that negative will also satisfy here\n",
    "        except IndexError:\n",
    "            break\n",
    "        ystart = ys[last]\n",
    "        ts = np.linspace(ts[last], ts[last+1], npts)\n",
    "    #print(\"Two-loop pole is at {:.2g} GeV.\".format(mu(ts[last])))\n",
    "    pole = mu(ts[last])\n",
    "    ts = np.linspace(0, ts[last], npts)\n",
    "    ys = odeint(func, y0, ts) \n",
    "    return pole #, ts, ys"
   ]
  },
  {
   "cell_type": "markdown",
   "metadata": {
    "hidden": true
   },
   "source": [
    "What follows is Fig. 6 from http://arXiv.org/pdf/1603.04723"
   ]
  },
  {
   "cell_type": "code",
   "execution_count": 106,
   "metadata": {
    "collapsed": false,
    "hidden": true
   },
   "outputs": [
    {
     "name": "stderr",
     "output_type": "stream",
     "text": [
      "/usr/lib/python3.5/site-packages/scipy/integrate/odepack.py:218: ODEintWarning: Excess work done on this call (perhaps wrong Dfun type). Run with full_output = 1 to get quantitative information.\n",
      "  warnings.warn(warning_msg, ODEintWarning)\n",
      "/usr/lib/python3.5/site-packages/ipykernel/__main__.py:20: RuntimeWarning: invalid value encountered in less\n"
     ]
    },
    {
     "data": {
      "image/png": "[encoded data removed]",
      "text/plain": [
       "<matplotlib.figure.Figure at 0x7fec46ce79e8>"
      ]
     },
     "metadata": {},
     "output_type": "display_data"
    }
   ],
   "source": [
    "mrats = np.linspace(1,10, 5)\n",
    "Lpoles = []\n",
    "for mr in mrats:\n",
    "    pole = find_pole(mchi=mr*1e4, mphi=mr*1e4, msig=10e3, mTHD=1e3, upto=1e18, npts=2000)\n",
    "    Lpoles.append(pole/1e6)\n",
    "plt.plot(mrats, Lpoles)\n",
    "plt.annotate(r\"$m_\\Sigma = 10\\, {\\rm TeV}$\", xy=(0.65, 0.28), xycoords='axes fraction', fontsize=16)\n",
    "plt.xlabel(r'$m_{\\chi,\\phi}/m_\\Sigma}$', fontsize=16)\n",
    "fig = plt.ylabel(r\"$\\Lambda_{\\rm Landau} \\; [10^6\\,{\\rm GeV}]$\", fontsize=16)"
   ]
  },
  {
   "cell_type": "code",
   "execution_count": 107,
   "metadata": {
    "collapsed": true,
    "hidden": true
   },
   "outputs": [],
   "source": [
    "from math import floor, log10\n",
    "import matplotlib.ticker as ticker"
   ]
  },
  {
   "cell_type": "code",
   "execution_count": 108,
   "metadata": {
    "collapsed": true,
    "hidden": true
   },
   "outputs": [],
   "source": [
    "# Define function for string formatting of scientific notation\n",
    "def sci_notation(num, decimal_digits=1, precision=None, exponent=None):\n",
    "    \"\"\"\n",
    "    Returns a string representation of the scientific\n",
    "    notation of the given number formatted for use with\n",
    "    LaTeX or Mathtext, with specified number of significant\n",
    "    decimal digits and precision (number of decimal digits\n",
    "    to show). The exponent to be used can also be specified\n",
    "    explicitly.\n",
    "    \"\"\"\n",
    "    if not exponent:\n",
    "        exponent = int(floor(log10(abs(num))))\n",
    "    coeff = round(num / float(10**exponent), decimal_digits)\n",
    "    if not precision:\n",
    "        precision = decimal_digits\n",
    "\n",
    "    return r\"${0:.{2}f}\\cdot10^{{{1:d}}}$\".format(coeff, exponent, precision)"
   ]
  },
  {
   "cell_type": "code",
   "execution_count": 109,
   "metadata": {
    "collapsed": true,
    "hidden": true
   },
   "outputs": [],
   "source": [
    "def fmtGeV(x, pos):\n",
    "    \"\"\"Scientific notation formatter.\"\"\"\n",
    "    a, b = '{:.1e}'.format(x).split('e')\n",
    "    b = int(b)\n",
    "    return r'${} \\times 10^{{{}}}\\,{{\\rm GeV}}$'.format(a, b)"
   ]
  },
  {
   "cell_type": "code",
   "execution_count": 110,
   "metadata": {
    "collapsed": true,
    "hidden": true
   },
   "outputs": [],
   "source": [
    "np_find_pole = np.frompyfunc(find_pole, 2, 1)"
   ]
  },
  {
   "cell_type": "code",
   "execution_count": 111,
   "metadata": {
    "collapsed": false,
    "hidden": true
   },
   "outputs": [
    {
     "name": "stderr",
     "output_type": "stream",
     "text": [
      "/usr/lib/python3.5/site-packages/scipy/integrate/odepack.py:218: ODEintWarning: Excess work done on this call (perhaps wrong Dfun type). Run with full_output = 1 to get quantitative information.\n",
      "  warnings.warn(warning_msg, ODEintWarning)\n",
      "/usr/lib/python3.5/site-packages/ipykernel/__main__.py:20: RuntimeWarning: invalid value encountered in less\n"
     ]
    },
    {
     "name": "stdout",
     "output_type": "stream",
     "text": [
      "CPU times: user 1min 25s, sys: 247 ms, total: 1min 26s\n",
      "Wall time: 1min 26s\n"
     ]
    },
    {
     "data": {
      "image/png": "[encoded data removed]",
      "text/plain": [
       "<matplotlib.figure.Figure at 0x7fec47b404a8>"
      ]
     },
     "metadata": {},
     "output_type": "display_data"
    }
   ],
   "source": [
    "%%time\n",
    "resolution = 40  # of calculation grid \n",
    "xs = np.linspace(375, 2000, resolution)\n",
    "ys = np.linspace(0.375, 15, resolution)\n",
    "#levels = [3, 6, 9]\n",
    "X, Y = np.meshgrid(xs, ys)\n",
    "Z = np_find_pole(X, Y)\n",
    "fig, ax = plt.subplots(figsize=(4,4))\n",
    "CS = plt.contour(X, Y, Z, cmap=plt.cm.viridis)\n",
    "#CS = plt.contour(X, Y, Z, locator=plt.Locator(), cmap=plt.cm.viridis)\n",
    "#CS = plt.contour(X, Y, Z, levels, cmap=plt.cm.viridis)\n",
    "fig = plt.clabel(CS, inline=1, fmt=ticker.FuncFormatter(fmtGeV), fontsize=12, colors='black')\n",
    "#fig = plt.clabel(CS, inline=1, fmt=r'$%.0g \\;{\\rm GeV}$', fontsize=12, colors='black')\n",
    "ax.set_xlabel(r'$m_\\chi = m_\\phi \\; {\\rm [GeV]}$', fontsize=16)\n",
    "ax.set_ylabel(r\"$m_\\Sigma \\; {\\rm [TeV]}$\", fontsize=16)\n",
    "ax.xaxis.set_major_locator(ticker.MultipleLocator(400))\n",
    "plt.tight_layout()\n",
    "plt.savefig(\"/home/kkumer/landau.pdf\")"
   ]
  },
  {
   "cell_type": "code",
   "execution_count": null,
   "metadata": {
    "collapsed": true,
    "hidden": true
   },
   "outputs": [],
   "source": []
  }
 ],
 "metadata": {
  "git": {
   "suppress_outputs": false
  },
  "kernelspec": {
   "display_name": "Python 3",
   "language": "python",
   "name": "python3"
  },
  "language_info": {
   "codemirror_mode": {
    "name": "ipython",
    "version": 3
   },
   "file_extension": ".py",
   "mimetype": "text/x-python",
   "name": "python",
   "nbconvert_exporter": "python",
   "pygments_lexer": "ipython3",
   "version": "3.5.1"
  },
  "toc": {
   "toc_cell": false,
   "toc_number_sections": true,
   "toc_threshold": 6,
   "toc_window_display": false
  }
 },
 "nbformat": 4,
 "nbformat_minor": 0
}
