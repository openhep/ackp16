{
 "cells": [
  {
   "cell_type": "markdown",
   "metadata": {},
   "source": [
    "<center><b><font size=\"5\">Looking for Landau poles</font></b></center>"
   ]
  },
  {
   "cell_type": "code",
   "execution_count": null,
   "metadata": {
    "collapsed": false
   },
   "outputs": [],
   "source": [
    "%matplotlib inline\n",
    "from scipy.integrate import odeint\n",
    "import matplotlib.pyplot as plt\n",
    "import numpy as np\n",
    "#import math\n",
    "from scipy import pi\n",
    "from sympy import Rational, sqrt, Symbol, init_printing"
   ]
  },
  {
   "cell_type": "code",
   "execution_count": null,
   "metadata": {
    "collapsed": true
   },
   "outputs": [],
   "source": [
    "# local packages\n",
    "# from plothelp import label_line\n",
    "from smgroup import *\n",
    "from constants import *"
   ]
  },
  {
   "cell_type": "code",
   "execution_count": null,
   "metadata": {
    "collapsed": true
   },
   "outputs": [],
   "source": [
    "init_printing(use_latex='mathjax')"
   ]
  },
  {
   "cell_type": "markdown",
   "metadata": {},
   "source": [
    "##  RGE coefficients"
   ]
  },
  {
   "cell_type": "markdown",
   "metadata": {},
   "source": [
    "### Definition of 1- and 2-loop RGE "
   ]
  },
  {
   "cell_type": "code",
   "execution_count": null,
   "metadata": {
    "collapsed": false
   },
   "outputs": [],
   "source": [
    "ng = Symbol('n_g')  # number of generations\n",
    "nh = Symbol('n_h')  # number of SM Higgs doublets = 1\n",
    "# we count only left-handed particles\n",
    "SMfermions = [\n",
    "    Weyl(1, 2, -1, ng),  # left lepton doublet\n",
    "    Weyl(1, 1,  2, ng),  # anti-right lepton singlet\n",
    "    Weyl(3, 2, Rational(1,3), ng),  # left quark doublet\n",
    "    Weyl(3, 1, Rational(-4,3), ng), # anti-right up quark singlet\n",
    "    Weyl(3, 1, Rational(2,3), ng) # anti-right down quark singlet\n",
    "    ]\n",
    "SMscalars = [\n",
    "    ComplexScalar(1, 2, 1, nh)     # Higgs doublet\n",
    "    ]"
   ]
  },
  {
   "cell_type": "code",
   "execution_count": null,
   "metadata": {
    "collapsed": true
   },
   "outputs": [],
   "source": [
    "def rge1L(N, BSMfermions=[], BSMscalars=[], num=False):\n",
    "    \"\"\"One loop RGE coefficient.\"\"\"\n",
    "    \n",
    "    a = Rational(-11,3)*CA(N)\n",
    "    for rep in SMfermions + BSMfermions:\n",
    "        a += Rational(4,3) * rep.wS2(N)\n",
    "    for rep in SMscalars + BSMscalars:\n",
    "        a += Rational(1,3) * rep.wS2(N)\n",
    "    if num:\n",
    "        return float(a.subs({ng:3, nh:1}))\n",
    "    else:\n",
    "        return a"
   ]
  },
  {
   "cell_type": "code",
   "execution_count": null,
   "metadata": {
    "collapsed": false
   },
   "outputs": [],
   "source": [
    "def rge1LM(BSMfermions=[], BSMscalars=[]):\n",
    "    \"\"\"All three one-loop RGE coefficients.\"\"\"\n",
    "    return np.array([rge1L(N, BSMfermions=BSMfermions, BSMscalars=BSMscalars, num=True) for N in [1,2,3]])"
   ]
  },
  {
   "cell_type": "code",
   "execution_count": null,
   "metadata": {
    "collapsed": false
   },
   "outputs": [],
   "source": [
    "def rge2L(N, M, BSMfermions=[], BSMscalars=[], num=False):\n",
    "    \"\"\"Two-loop RGE coeffs. Same syntax as for one-loop.\"\"\"\n",
    "    \n",
    "    b = 0\n",
    "    if M != N:\n",
    "        for rep in SMfermions + SMscalars + BSMfermions + BSMscalars:\n",
    "            b += 4 * rep.wS2(N) * rep.C2(M)\n",
    "    if M == N:\n",
    "        b += Rational(-34,3)*CA(N)**2\n",
    "        for rep in SMfermions + BSMfermions:\n",
    "            b += rep.wS2(N)*(4*rep.C2(N)+Rational(20,3)*CA(N))\n",
    "        for rep in SMscalars + BSMscalars:\n",
    "            b += rep.wS2(N)*(4*rep.C2(N)+Rational(2,3)*CA(N))\n",
    "    if num:\n",
    "        return float(b.subs({ng:3, nh:1}))\n",
    "    else:\n",
    "        return b"
   ]
  },
  {
   "cell_type": "code",
   "execution_count": null,
   "metadata": {
    "collapsed": true
   },
   "outputs": [],
   "source": [
    "def rge2LM(BSMfermions=[], BSMscalars=[]):\n",
    "    \"\"\"Whole matrix of two-loop RGE coefficients.\"\"\"\n",
    "    return np.array([[rge2L(N, M, BSMfermions=BSMfermions, BSMscalars=BSMscalars, num=True) for M in [1,2,3]] for N in [1,2,3]])"
   ]
  },
  {
   "cell_type": "markdown",
   "metadata": {
    "heading_collapsed": true
   },
   "source": [
    "### Testing one loop RGE coefs"
   ]
  },
  {
   "cell_type": "code",
   "execution_count": null,
   "metadata": {
    "collapsed": false,
    "hidden": true
   },
   "outputs": [],
   "source": [
    "# Test SM values: \n",
    "[rge1L(k) for k in [1,2,3]]"
   ]
  },
  {
   "cell_type": "code",
   "execution_count": null,
   "metadata": {
    "collapsed": false,
    "hidden": true
   },
   "outputs": [],
   "source": [
    "# Test SM values: \n",
    "# SARAH values:  [41/10,  -19/6, -7]\n",
    "[rge1L(k).subs({ng:3, nh:1}) for k in [1,2,3]]"
   ]
  },
  {
   "cell_type": "code",
   "execution_count": null,
   "metadata": {
    "collapsed": false,
    "hidden": true
   },
   "outputs": [],
   "source": [
    "# Should be: 4.1, -3.1666, -7.\n",
    "rge1LM()"
   ]
  },
  {
   "cell_type": "code",
   "execution_count": null,
   "metadata": {
    "collapsed": false,
    "hidden": true
   },
   "outputs": [],
   "source": [
    "# Compare to Lindner's table (new scalars)\n",
    "# last row should be:   8.4*Y**2    224.   21.0\n",
    "#  \n",
    "Y = Symbol('Y')\n",
    "for D3 in [1, 3, 6, 8]:\n",
    "    for D2 in range(1, 8):\n",
    "        rep = ComplexScalar(D3, D2, Y)\n",
    "        print(rep, \"  {:10s}  {:5s}  {:3s}\".format(*[str(3*(rge1L(k, BSMscalars=[rep], num=False)-rge1L(k, num=False)).evalf(3)) for k in [1,2,3]]))"
   ]
  },
  {
   "cell_type": "code",
   "execution_count": null,
   "metadata": {
    "collapsed": false,
    "hidden": true
   },
   "outputs": [],
   "source": [
    "# Compare to Lindner's table (new fermions)\n",
    "#  \n",
    "Y = Symbol('Y')\n",
    "for D3 in [1, 3, 6, 8]:\n",
    "    for D2 in range(1, 8):\n",
    "        rep = Weyl(D3, D2, Y)\n",
    "        print(rep, \"  {:10s}  {:5s}  {:3s}\".format(*[str((1.5*(rge1L(k, BSMfermions=[rep], num=False)-rge1L(k, num=False))).evalf(3)) for k in [1,2,3]]))"
   ]
  },
  {
   "cell_type": "markdown",
   "metadata": {
    "hidden": true
   },
   "source": [
    "THDM-Scalar septuplet model from SARAH"
   ]
  },
  {
   "cell_type": "code",
   "execution_count": null,
   "metadata": {
    "collapsed": false,
    "hidden": true
   },
   "outputs": [],
   "source": [
    "# SARAH =  [21/5, 5/3, -7]\n",
    "[rge1L(k, BSMscalars=[ComplexScalar(1, 2, 1), RealScalar(1, 7, 0)]).subs({ng: 3, nh: 1}) for k in [1,2,3]]"
   ]
  },
  {
   "cell_type": "markdown",
   "metadata": {},
   "source": [
    "### Testing two loop RGE coefs with SARAH"
   ]
  },
  {
   "cell_type": "markdown",
   "metadata": {
    "heading_collapsed": true
   },
   "source": [
    "#### SM "
   ]
  },
  {
   "cell_type": "code",
   "execution_count": null,
   "metadata": {
    "collapsed": false,
    "hidden": true
   },
   "outputs": [],
   "source": [
    "[Rational(n,-10) for n in [-11, -45, 260]]"
   ]
  },
  {
   "cell_type": "code",
   "execution_count": null,
   "metadata": {
    "collapsed": false,
    "hidden": true
   },
   "outputs": [],
   "source": [
    "[rge2L(3, k).subs(ng, 3) for k in [1,2,3]]"
   ]
  },
  {
   "cell_type": "code",
   "execution_count": null,
   "metadata": {
    "collapsed": false,
    "hidden": true
   },
   "outputs": [],
   "source": [
    "[Rational(n,30) for n in [27, 175, 360]]"
   ]
  },
  {
   "cell_type": "code",
   "execution_count": null,
   "metadata": {
    "collapsed": false,
    "hidden": true
   },
   "outputs": [],
   "source": [
    "[rge2L(2, k).subs({ng: 3, nh:1}) for k in [1,2,3]]"
   ]
  },
  {
   "cell_type": "code",
   "execution_count": null,
   "metadata": {
    "collapsed": false,
    "hidden": true
   },
   "outputs": [],
   "source": [
    "[Rational(n,50) for n in [199, 135, 440]]"
   ]
  },
  {
   "cell_type": "code",
   "execution_count": null,
   "metadata": {
    "collapsed": false,
    "hidden": true
   },
   "outputs": [],
   "source": [
    "[rge2L(1, k).subs({ng: 3, nh:1}) for k in [1,2,3]]"
   ]
  },
  {
   "cell_type": "code",
   "execution_count": null,
   "metadata": {
    "collapsed": false,
    "hidden": true
   },
   "outputs": [],
   "source": [
    "rge2LM()"
   ]
  },
  {
   "cell_type": "markdown",
   "metadata": {
    "heading_collapsed": true
   },
   "source": [
    "#### THDM-Septuplet"
   ]
  },
  {
   "cell_type": "code",
   "execution_count": null,
   "metadata": {
    "collapsed": false,
    "hidden": true
   },
   "outputs": [],
   "source": [
    "[Rational(n,50) for n in [208, 180, 440]]   # SARAH"
   ]
  },
  {
   "cell_type": "code",
   "execution_count": null,
   "metadata": {
    "collapsed": false,
    "hidden": true
   },
   "outputs": [],
   "source": [
    "[rge2L(1, k, BSMscalars=[ComplexScalar(1, 2, 1), RealScalar(1, 7, 0)]).subs({ng: 3, nh:1}) for k in [1,2,3]]"
   ]
  },
  {
   "cell_type": "code",
   "execution_count": null,
   "metadata": {
    "collapsed": false,
    "hidden": true
   },
   "outputs": [],
   "source": [
    "[Rational(n,30) for n in [36, 20960, 360]]   # SARAH"
   ]
  },
  {
   "cell_type": "code",
   "execution_count": null,
   "metadata": {
    "collapsed": false,
    "hidden": true
   },
   "outputs": [],
   "source": [
    "[rge2L(2, k, BSMscalars=[ComplexScalar(1, 2, 1), RealScalar(1, 7, 0)]).subs({ng: 3, nh:1}) for k in [1,2,3]]"
   ]
  },
  {
   "cell_type": "code",
   "execution_count": null,
   "metadata": {
    "collapsed": false,
    "hidden": true
   },
   "outputs": [],
   "source": [
    "[Rational(n,-10) for n in [-11, -45, 260]]  # SARAH"
   ]
  },
  {
   "cell_type": "code",
   "execution_count": null,
   "metadata": {
    "collapsed": false,
    "hidden": true
   },
   "outputs": [],
   "source": [
    "[rge2L(3, k, BSMscalars=[ComplexScalar(1, 2, 1), RealScalar(1, 7, 0)]).subs({ng: 3, nh:1}) for k in [1,2,3]]"
   ]
  },
  {
   "cell_type": "markdown",
   "metadata": {
    "heading_collapsed": true
   },
   "source": [
    "#### Vectorlike-BotomY model"
   ]
  },
  {
   "cell_type": "markdown",
   "metadata": {
    "hidden": true
   },
   "source": [
    "This model has one generation of vector-like quark doublets"
   ]
  },
  {
   "cell_type": "code",
   "execution_count": null,
   "metadata": {
    "collapsed": false,
    "hidden": true
   },
   "outputs": [],
   "source": [
    "[Rational(223, 30), Rational(-7, 6), Rational(-17, 3)] # SARAH"
   ]
  },
  {
   "cell_type": "code",
   "execution_count": null,
   "metadata": {
    "collapsed": false,
    "hidden": true
   },
   "outputs": [],
   "source": [
    "[rge1L(k, BSMfermions=[Weyl(3, 2, Rational(-5,3)), Weyl(3, 2, Rational(5,3))]).subs({ng: 3, nh: 1}) for k in [1,2,3]]"
   ]
  },
  {
   "cell_type": "code",
   "execution_count": null,
   "metadata": {
    "collapsed": false,
    "hidden": true
   },
   "outputs": [],
   "source": [
    "[Rational(n,150) for n in [1222, 1530, 3320]] # SARAH"
   ]
  },
  {
   "cell_type": "code",
   "execution_count": null,
   "metadata": {
    "collapsed": false,
    "hidden": true
   },
   "outputs": [],
   "source": [
    "[rge2L(1, k, BSMfermions=[Weyl(3, 2, Rational(-5,3)), Weyl(3, 2, Rational(5,3))]).subs({ng: 3, nh: 1}) for k in [1,2,3]]"
   ]
  },
  {
   "cell_type": "code",
   "execution_count": null,
   "metadata": {
    "collapsed": false,
    "hidden": true
   },
   "outputs": [],
   "source": [
    "[Rational(n,30) for n in [102, 910, 600]] # SARAH"
   ]
  },
  {
   "cell_type": "code",
   "execution_count": null,
   "metadata": {
    "collapsed": false,
    "hidden": true
   },
   "outputs": [],
   "source": [
    "[rge2L(2, k, BSMfermions=[Weyl(3, 2, Rational(-5,3)), Weyl(3, 2, Rational(5,3))]).subs({ng: 3, nh: 1}) for k in [1,2,3]]"
   ]
  },
  {
   "cell_type": "code",
   "execution_count": null,
   "metadata": {
    "collapsed": false,
    "hidden": true
   },
   "outputs": [],
   "source": [
    "[Rational(n,30) for n in [83, 225, -20]] # SARAH"
   ]
  },
  {
   "cell_type": "code",
   "execution_count": null,
   "metadata": {
    "collapsed": false,
    "hidden": true
   },
   "outputs": [],
   "source": [
    "[rge2L(3, k, BSMfermions=[Weyl(3, 2, Rational(-5,3)), Weyl(3, 2, Rational(5,3))]).subs({ng: 3, nh: 1}) for k in [1,2,3]]"
   ]
  },
  {
   "cell_type": "markdown",
   "metadata": {},
   "source": [
    "## Landau poles for various models"
   ]
  },
  {
   "cell_type": "markdown",
   "metadata": {},
   "source": [
    "### Definitions and initial values"
   ]
  },
  {
   "cell_type": "markdown",
   "metadata": {},
   "source": [
    "To find pole we search for zero of $\\alpha_{i}^{-1}$, using  formula\n",
    "$$ \\frac{d\\alpha_{i}^{-1}}{d t} = - a_i + \\frac{b_{ij}}{4\\pi\\alpha_{j}^{-1}}$$"
   ]
  },
  {
   "cell_type": "markdown",
   "metadata": {},
   "source": [
    "Proper procedure to numerically find zero:\n",
    "https://mail.scipy.org/pipermail/scipy-user/2005-March/004248.html\n",
    "\n",
    "We'll use more primitive one, just graphically checking that abscissa is crossed and then looking for smallest alpha."
   ]
  },
  {
   "cell_type": "code",
   "execution_count": null,
   "metadata": {
    "collapsed": true
   },
   "outputs": [],
   "source": [
    "# Starting point for all evolutions\n",
    "MZ = 91.188\n",
    "alpha3_0 = 0.1173\n",
    "alpha2_0 = 0.03374  \n",
    "alpha1_0 = 0.016923\n",
    "y0 = np.array([1/alpha1_0, 1/alpha2_0, 1/alpha3_0])"
   ]
  },
  {
   "cell_type": "code",
   "execution_count": null,
   "metadata": {
    "collapsed": true
   },
   "outputs": [],
   "source": [
    "def t(mu):\n",
    "    \"\"\"Evolution variable t in terms of mu [Gev].\"\"\"\n",
    "    return math.log(mu/MZ)/(2*pi)\n",
    "\n",
    "def mu(t):\n",
    "    \"\"\"Inverse of t(mu)\"\"\"\n",
    "    return MZ*math.exp(2*pi*t)"
   ]
  },
  {
   "cell_type": "code",
   "execution_count": null,
   "metadata": {
    "collapsed": false
   },
   "outputs": [],
   "source": [
    "def precalcRGE(thresholds=[]):\n",
    "    \"\"\"Precalculates RGE coeffs.\n",
    "    \n",
    "    Element of thresholds list: (mu, [irrep1, irrep2, ...])\n",
    "    with irreps entering evolution at scale mu [GeV].\n",
    "    mu's should increase along the list.\n",
    "    Returns: array of t-thresholds and corresponding\n",
    "             arrays of RGE coeffs -a_i and\n",
    "             matrices b_ij / (4pi).\n",
    "    \"\"\"\n",
    "    ts = [t(MZ)]\n",
    "    cRGE = [(-rge1LM(), -rge2LM()/(4*pi))]\n",
    "    active_BSM_fermions = []\n",
    "    active_BSM_scalars = []\n",
    "    thresholds.sort(key=lambda it: it[0])\n",
    "    for mu, reps in thresholds:\n",
    "        if type(reps) != list: reps=[reps]\n",
    "        for rep in reps:\n",
    "            if rep.__class__.__name__[-4:] == 'alar':\n",
    "                active_BSM_scalars.append(rep)\n",
    "            else:\n",
    "                active_BSM_fermions.append(rep)\n",
    "        ts.append(t(mu))\n",
    "        cRGE.append((-rge1LM(BSMfermions=active_BSM_fermions, BSMscalars=active_BSM_scalars), -rge2LM(BSMfermions=active_BSM_fermions, BSMscalars=active_BSM_scalars)/(4*pi)))\n",
    "    return np.array(ts), cRGE"
   ]
  },
  {
   "cell_type": "code",
   "execution_count": null,
   "metadata": {
    "collapsed": true
   },
   "outputs": [],
   "source": [
    "def rgefig(ts, ys):    \n",
    "    logms = np.array([math.log10(mu(t)) for t in ts])\n",
    "    fig, ax = plt.subplots(figsize=[4,3])\n",
    "    ax.plot(logms, ys[:,0], 'b--', label=r'$\\alpha_{1}^{-1}$')\n",
    "    ax.plot(logms, ys[:,1], 'r-', label=r'$\\alpha_{2}^{-1}$')\n",
    "    props = dict(color=\"green\", linestyle=\"-\", linewidth=1)\n",
    "    ax.axhline(y=0, **props)\n",
    "    ax.set_ylabel(r'$\\alpha_{i}^{-1}$', fontsize='14')\n",
    "    ax.set_xlabel(r'$\\log_{10}(\\mu/{\\rm GeV})$', fontsize='14')\n",
    "    ax.legend(loc='upper right').draw_frame(0)\n",
    "    plt.show()"
   ]
  },
  {
   "cell_type": "markdown",
   "metadata": {},
   "source": [
    "### SM"
   ]
  },
  {
   "cell_type": "code",
   "execution_count": null,
   "metadata": {
    "collapsed": false
   },
   "outputs": [],
   "source": [
    "threshs, cRGE = precalcRGE()\n",
    "def func(y, t):\n",
    "    c0, c1 = cRGE[np.searchsorted(threshs, t)-1]\n",
    "    return c0 + c1.dot(1/y)"
   ]
  },
  {
   "cell_type": "code",
   "execution_count": null,
   "metadata": {
    "collapsed": false
   },
   "outputs": [],
   "source": [
    "muend = mH/2  \n",
    "ts = np.linspace(0, t(muend), 1000)\n",
    "ys = odeint(func, y0, ts)"
   ]
  },
  {
   "cell_type": "code",
   "execution_count": null,
   "metadata": {
    "collapsed": false
   },
   "outputs": [],
   "source": [
    "print(\"1/alpha(MZ) = {}\".format(ys[0][0]/cw2*(5/3)))\n",
    "print(\"1/alpha(mH/2) = {}\".format(ys[-1][0]/cw2*(5/3)))"
   ]
  },
  {
   "cell_type": "markdown",
   "metadata": {},
   "source": [
    "### SM + Weyl (1,5,0)"
   ]
  },
  {
   "cell_type": "code",
   "execution_count": null,
   "metadata": {
    "collapsed": true
   },
   "outputs": [],
   "source": [
    "threshs, cRGE = precalcRGE(thresholds=[(1e4, Weyl(1,5,0))])"
   ]
  },
  {
   "cell_type": "code",
   "execution_count": null,
   "metadata": {
    "collapsed": false
   },
   "outputs": [],
   "source": [
    "def func(y, t, twoloop=True):\n",
    "    \"\"\"Derivative of inverse alpha.\n",
    "    d inv_alpha/dt = c0 + c1/inv_alpha\n",
    "    \"\"\"\n",
    "    c0, c1 = cRGE[np.searchsorted(threshs, t)-1]\n",
    "    if twoloop:\n",
    "        return c0 + c1.dot(1/y)\n",
    "    else:\n",
    "        return c0 "
   ]
  },
  {
   "cell_type": "code",
   "execution_count": null,
   "metadata": {
    "collapsed": false
   },
   "outputs": [],
   "source": [
    "mu_max = 1e30  # we integrate up to this scale in GeV\n",
    "npts = 1000     # number of integration points\n",
    "ts = np.linspace(0, t(mu_max), npts)"
   ]
  },
  {
   "cell_type": "code",
   "execution_count": null,
   "metadata": {
    "collapsed": false
   },
   "outputs": [],
   "source": [
    "twoloop = False\n",
    "ys = odeint(func, y0, ts, args=(twoloop,)) "
   ]
  },
  {
   "cell_type": "code",
   "execution_count": null,
   "metadata": {
    "collapsed": false
   },
   "outputs": [],
   "source": [
    "rgefig(ts, ys)"
   ]
  },
  {
   "cell_type": "code",
   "execution_count": null,
   "metadata": {
    "collapsed": false
   },
   "outputs": [],
   "source": [
    "print(\"One-loop pole is at {:.1g} GeV.\".format(mu(ts[abs(ys[:,1]).argmin()])))"
   ]
  },
  {
   "cell_type": "markdown",
   "metadata": {},
   "source": [
    "This is in nice agreement with Di Luzio et al's 9e28. arXiv:[1504.00359](http://www.arXiv.org/abs/1504.00359)"
   ]
  },
  {
   "cell_type": "code",
   "execution_count": null,
   "metadata": {
    "collapsed": false
   },
   "outputs": [],
   "source": [
    "mu_max = 3.5e21  # we integrate up to this scale in GeV\n",
    "npts = 1000     # number of integration points\n",
    "ts = np.linspace(0, t(mu_max), npts)"
   ]
  },
  {
   "cell_type": "code",
   "execution_count": null,
   "metadata": {
    "collapsed": false
   },
   "outputs": [],
   "source": [
    "twoloop = True\n",
    "ys = odeint(func, y0, ts, args=(twoloop,)) "
   ]
  },
  {
   "cell_type": "code",
   "execution_count": null,
   "metadata": {
    "collapsed": false
   },
   "outputs": [],
   "source": [
    "rgefig(ts, ys)"
   ]
  },
  {
   "cell_type": "code",
   "execution_count": null,
   "metadata": {
    "collapsed": false
   },
   "outputs": [],
   "source": [
    "print(\"Two-loop pole is at {:.2g} GeV.\".format(mu(ts[abs(ys[:,1]).argmin()])))"
   ]
  },
  {
   "cell_type": "markdown",
   "metadata": {},
   "source": [
    "This is in nice agreement with Di Luzio et al. who have 4e21 GeV"
   ]
  },
  {
   "cell_type": "markdown",
   "metadata": {
    "heading_collapsed": true
   },
   "source": [
    "### SM + real scalar (1,7,0)"
   ]
  },
  {
   "cell_type": "code",
   "execution_count": null,
   "metadata": {
    "collapsed": true,
    "hidden": true
   },
   "outputs": [],
   "source": [
    "threshs, cRGE = precalcRGE(thresholds=[(2.5e4, RealScalar(1,7,0))])"
   ]
  },
  {
   "cell_type": "code",
   "execution_count": null,
   "metadata": {
    "collapsed": false,
    "hidden": true
   },
   "outputs": [],
   "source": [
    "def func(y, t, twoloop=True):\n",
    "    \"\"\"Derivative of inverse alpha.\n",
    "    d inv_alpha/dt = c0 + c1/inv_alpha\n",
    "    \"\"\"\n",
    "    c0, c1 = cRGE[np.searchsorted(threshs, t)-1]\n",
    "    if twoloop:\n",
    "        return c0 + c1.dot(1/y)\n",
    "    else:\n",
    "        return c0 "
   ]
  },
  {
   "cell_type": "code",
   "execution_count": null,
   "metadata": {
    "collapsed": false,
    "hidden": true
   },
   "outputs": [],
   "source": [
    "mu_max = 1e42  # we integrate up to this scale in GeV\n",
    "npts = 1000     # number of integration points\n",
    "ts = np.linspace(0, t(mu_max), npts)"
   ]
  },
  {
   "cell_type": "code",
   "execution_count": null,
   "metadata": {
    "collapsed": false,
    "hidden": true
   },
   "outputs": [],
   "source": [
    "twoloop = False\n",
    "ys = odeint(func, y0, ts, args=(twoloop,)) "
   ]
  },
  {
   "cell_type": "code",
   "execution_count": null,
   "metadata": {
    "collapsed": false,
    "hidden": true
   },
   "outputs": [],
   "source": [
    "rgefig(ts, ys)"
   ]
  },
  {
   "cell_type": "code",
   "execution_count": null,
   "metadata": {
    "collapsed": false,
    "hidden": true
   },
   "outputs": [],
   "source": [
    "print(\"One-loop pole is at {:.2g} GeV.\".format(mu(ts[abs(ys[:,0]).argmin()])))"
   ]
  },
  {
   "cell_type": "markdown",
   "metadata": {
    "hidden": true
   },
   "source": [
    "This is in nice agreement with Di Luzio et al's 1.9e41."
   ]
  },
  {
   "cell_type": "code",
   "execution_count": null,
   "metadata": {
    "collapsed": false,
    "hidden": true
   },
   "outputs": [],
   "source": [
    "mu_max = 7.4e20  # we integrate up to this scale in GeV\n",
    "npts = 3000     # number of integration points\n",
    "ts = np.linspace(0, t(mu_max), npts)"
   ]
  },
  {
   "cell_type": "code",
   "execution_count": null,
   "metadata": {
    "collapsed": false,
    "hidden": true
   },
   "outputs": [],
   "source": [
    "twoloop = True\n",
    "ys = odeint(func, y0, ts, args=(twoloop,)) "
   ]
  },
  {
   "cell_type": "code",
   "execution_count": null,
   "metadata": {
    "collapsed": false,
    "hidden": true
   },
   "outputs": [],
   "source": [
    "rgefig(ts, ys)"
   ]
  },
  {
   "cell_type": "code",
   "execution_count": null,
   "metadata": {
    "collapsed": false,
    "hidden": true
   },
   "outputs": [],
   "source": [
    "print(\"Two-loop pole is at {:.2g} GeV.\".format(mu(ts[abs(ys[:,1]).argmin()])))"
   ]
  },
  {
   "cell_type": "markdown",
   "metadata": {
    "hidden": true
   },
   "source": [
    "This is in nice agreement with Di Luzio et al. who have 8.9e20 GeV"
   ]
  },
  {
   "cell_type": "markdown",
   "metadata": {
    "heading_collapsed": true
   },
   "source": [
    "### Ahriche et al model"
   ]
  },
  {
   "cell_type": "code",
   "execution_count": null,
   "metadata": {
    "collapsed": false,
    "hidden": true
   },
   "outputs": [],
   "source": [
    "threshs, cRGE = precalcRGE(thresholds=[(0.5e3, ComplexScalar(1,1,2)), (20e3, Weyl(1,7,0,ng)), (5*20e3, RealScalar(1,7,2))])"
   ]
  },
  {
   "cell_type": "code",
   "execution_count": null,
   "metadata": {
    "collapsed": false,
    "hidden": true
   },
   "outputs": [],
   "source": [
    "def func(y, t, twoloop=True):\n",
    "    \"\"\"Derivative of inverse alpha.\n",
    "    d inv_alpha/dt = c0 + c1/inv_alpha\n",
    "    \"\"\"\n",
    "    c0, c1 = cRGE[np.searchsorted(threshs, t)-1]\n",
    "    if twoloop:\n",
    "        return c0 + c1.dot(1/y)\n",
    "    else:\n",
    "        return c0 "
   ]
  },
  {
   "cell_type": "markdown",
   "metadata": {
    "hidden": true
   },
   "source": [
    "#### One-loop RGE running"
   ]
  },
  {
   "cell_type": "code",
   "execution_count": null,
   "metadata": {
    "collapsed": false,
    "hidden": true
   },
   "outputs": [],
   "source": [
    "mu_max = 1e6  # we integrate up to this scale in GeV\n",
    "npts = 1000     # number of integration points\n",
    "ts = np.linspace(0, t(mu_max), npts)"
   ]
  },
  {
   "cell_type": "code",
   "execution_count": null,
   "metadata": {
    "collapsed": false,
    "hidden": true
   },
   "outputs": [],
   "source": [
    "twoloop = False\n",
    "ys = odeint(func, y0, ts, args=(twoloop,)) "
   ]
  },
  {
   "cell_type": "code",
   "execution_count": null,
   "metadata": {
    "collapsed": false,
    "hidden": true
   },
   "outputs": [],
   "source": [
    "rgefig(ts, ys)"
   ]
  },
  {
   "cell_type": "code",
   "execution_count": null,
   "metadata": {
    "collapsed": false,
    "hidden": true
   },
   "outputs": [],
   "source": [
    "print(\"One-loop pole is at {:.2g} GeV.\".format(mu(ts[abs(ys[:,1]).argmin()])))"
   ]
  },
  {
   "cell_type": "markdown",
   "metadata": {
    "hidden": true
   },
   "source": [
    "#### Two-loop RGE running"
   ]
  },
  {
   "cell_type": "code",
   "execution_count": null,
   "metadata": {
    "collapsed": false,
    "hidden": true
   },
   "outputs": [],
   "source": [
    "mu_max = 2.83e5  # we integrate up to this scale in GeV\n",
    "npts = 2000     # number of integration points\n",
    "ts = np.linspace(0, t(mu_max), npts)"
   ]
  },
  {
   "cell_type": "code",
   "execution_count": null,
   "metadata": {
    "collapsed": false,
    "hidden": true
   },
   "outputs": [],
   "source": [
    "twoloop = True\n",
    "ys = odeint(func, y0, ts, args=(twoloop,)) "
   ]
  },
  {
   "cell_type": "code",
   "execution_count": null,
   "metadata": {
    "collapsed": false,
    "hidden": true
   },
   "outputs": [],
   "source": [
    "rgefig(ts, ys)"
   ]
  },
  {
   "cell_type": "code",
   "execution_count": null,
   "metadata": {
    "collapsed": false,
    "hidden": true
   },
   "outputs": [],
   "source": [
    "print(\"Two-loop pole is at {:.2g} GeV.\".format(mu(ts[abs(ys[:,1]).argmin()])))"
   ]
  },
  {
   "cell_type": "markdown",
   "metadata": {
    "collapsed": true,
    "hidden": true
   },
   "source": [
    "This is factor 2 below Aristizabal Sierra et al's 6e5 GeV from their Fig. 6."
   ]
  },
  {
   "cell_type": "markdown",
   "metadata": {
    "heading_collapsed": true
   },
   "source": [
    "### Triplet neutrino mass model"
   ]
  },
  {
   "cell_type": "code",
   "execution_count": null,
   "metadata": {
    "collapsed": false,
    "hidden": true
   },
   "outputs": [],
   "source": [
    "threshs, cRGE = precalcRGE(thresholds=[(0.375e3, ComplexScalar(1,1,2)), (0.375e3, Weyl(1,2,1, ng)), (0.375e3, Weyl(1,2,-1, ng)), (0.375e3, RealScalar(1,3,0))])"
   ]
  },
  {
   "cell_type": "code",
   "execution_count": null,
   "metadata": {
    "collapsed": false,
    "hidden": true
   },
   "outputs": [],
   "source": [
    "def func(y, t, twoloop=True):\n",
    "    \"\"\"Derivative of inverse alpha.\n",
    "    d inv_alpha/dt = c0 + c1/inv_alpha\n",
    "    \"\"\"\n",
    "    c0, c1 = cRGE[np.searchsorted(threshs, t)-1]\n",
    "    if twoloop:\n",
    "        return c0 + c1.dot(1/y)\n",
    "    else:\n",
    "        return c0 "
   ]
  },
  {
   "cell_type": "markdown",
   "metadata": {
    "hidden": true
   },
   "source": [
    "#### One-loop RGE running"
   ]
  },
  {
   "cell_type": "code",
   "execution_count": null,
   "metadata": {
    "collapsed": false,
    "hidden": true
   },
   "outputs": [],
   "source": [
    "mu_max = 1e33  # we integrate up to this scale in GeV\n",
    "npts = 1000     # number of integration points\n",
    "ts = np.linspace(0, t(mu_max), npts)"
   ]
  },
  {
   "cell_type": "code",
   "execution_count": null,
   "metadata": {
    "collapsed": false,
    "hidden": true
   },
   "outputs": [],
   "source": [
    "twoloop = False\n",
    "ys = odeint(func, y0, ts, args=(twoloop,)) "
   ]
  },
  {
   "cell_type": "code",
   "execution_count": null,
   "metadata": {
    "collapsed": false,
    "hidden": true
   },
   "outputs": [],
   "source": [
    "rgefig(ts, ys)"
   ]
  },
  {
   "cell_type": "code",
   "execution_count": null,
   "metadata": {
    "collapsed": false,
    "hidden": true
   },
   "outputs": [],
   "source": [
    "print(\"One-loop pole is at {:.2g} GeV.\".format(mu(ts[abs(ys[:,0]).argmin()])))"
   ]
  },
  {
   "cell_type": "markdown",
   "metadata": {
    "hidden": true
   },
   "source": [
    "#### Two-loop RGE running"
   ]
  },
  {
   "cell_type": "code",
   "execution_count": null,
   "metadata": {
    "collapsed": false,
    "hidden": true
   },
   "outputs": [],
   "source": [
    "mu_max = 1e31  # we integrate up to this scale in GeV\n",
    "npts = 1000     # number of integration points\n",
    "ts = np.linspace(0, t(mu_max), npts)"
   ]
  },
  {
   "cell_type": "code",
   "execution_count": null,
   "metadata": {
    "collapsed": false,
    "hidden": true
   },
   "outputs": [],
   "source": [
    "twoloop = True\n",
    "ys = odeint(func, y0, ts, args=(twoloop,)) "
   ]
  },
  {
   "cell_type": "code",
   "execution_count": null,
   "metadata": {
    "collapsed": false,
    "hidden": true
   },
   "outputs": [],
   "source": [
    "rgefig(ts, ys)"
   ]
  },
  {
   "cell_type": "code",
   "execution_count": null,
   "metadata": {
    "collapsed": false,
    "hidden": true
   },
   "outputs": [],
   "source": [
    "print(\"Two-loop pole is at {:.2g} GeV.\".format(mu(ts[abs(ys[:,0]).argmin()])))"
   ]
  },
  {
   "cell_type": "markdown",
   "metadata": {
    "collapsed": true,
    "hidden": true
   },
   "source": [
    "So we are beyond Planck mass ..."
   ]
  },
  {
   "cell_type": "markdown",
   "metadata": {
    "heading_collapsed": true
   },
   "source": [
    "### \u010cKP model"
   ]
  },
  {
   "cell_type": "code",
   "execution_count": null,
   "metadata": {
    "collapsed": false,
    "hidden": true
   },
   "outputs": [],
   "source": [
    "threshs, cRGE = precalcRGE(thresholds=[(1e3, ComplexScalar(1,2,1)), (10e3, Weyl(1,5,0,ng)), (5*10e3, [ComplexScalar(1,5,-2),RealScalar(1,7,0)])])"
   ]
  },
  {
   "cell_type": "code",
   "execution_count": null,
   "metadata": {
    "collapsed": false,
    "hidden": true
   },
   "outputs": [],
   "source": [
    "def func(y, t, twoloop=True):\n",
    "    \"\"\"Derivative of inverse alpha.\n",
    "    d inv_alpha/dt = c0 + c1/inv_alpha\n",
    "    \"\"\"\n",
    "    c0, c1 = cRGE[np.searchsorted(threshs, t)-1]\n",
    "    if twoloop:\n",
    "        return c0 + c1.dot(1/y)\n",
    "    else:\n",
    "        return c0 "
   ]
  },
  {
   "cell_type": "markdown",
   "metadata": {
    "hidden": true
   },
   "source": [
    "#### One-loop RGE running"
   ]
  },
  {
   "cell_type": "code",
   "execution_count": null,
   "metadata": {
    "collapsed": false,
    "hidden": true
   },
   "outputs": [],
   "source": [
    "mu_max = 1e8  # we integrate up to this scale in GeV\n",
    "npts = 1000     # number of integration points\n",
    "ts = np.linspace(0, t(mu_max), npts)"
   ]
  },
  {
   "cell_type": "code",
   "execution_count": null,
   "metadata": {
    "collapsed": false,
    "hidden": true
   },
   "outputs": [],
   "source": [
    "twoloop = False\n",
    "ys = odeint(func, y0, ts, args=(twoloop,)) "
   ]
  },
  {
   "cell_type": "code",
   "execution_count": null,
   "metadata": {
    "collapsed": false,
    "hidden": true
   },
   "outputs": [],
   "source": [
    "rgefig(ts, ys)"
   ]
  },
  {
   "cell_type": "code",
   "execution_count": null,
   "metadata": {
    "collapsed": false,
    "hidden": true
   },
   "outputs": [],
   "source": [
    "print(\"One-loop pole is at {:.2g} GeV.\".format(mu(ts[abs(ys[:,1]).argmin()])))"
   ]
  },
  {
   "cell_type": "markdown",
   "metadata": {
    "hidden": true
   },
   "source": [
    "#### Two-loop RGE running"
   ]
  },
  {
   "cell_type": "code",
   "execution_count": null,
   "metadata": {
    "collapsed": false,
    "hidden": true
   },
   "outputs": [],
   "source": [
    "mu_max = 4.55e6  # we integrate up to this scale in GeV\n",
    "npts = 1000     # number of integration points\n",
    "ts = np.linspace(0, t(mu_max), npts)"
   ]
  },
  {
   "cell_type": "code",
   "execution_count": null,
   "metadata": {
    "collapsed": false,
    "hidden": true
   },
   "outputs": [],
   "source": [
    "twoloop = True\n",
    "ys = odeint(func, y0, ts, args=(twoloop,)) "
   ]
  },
  {
   "cell_type": "code",
   "execution_count": null,
   "metadata": {
    "collapsed": false,
    "hidden": true
   },
   "outputs": [],
   "source": [
    "rgefig(ts, ys)"
   ]
  },
  {
   "cell_type": "code",
   "execution_count": null,
   "metadata": {
    "collapsed": false,
    "hidden": true
   },
   "outputs": [],
   "source": [
    "print(\"Two-loop pole is at {:.2g} GeV.\".format(mu(ts[abs(ys[:,1]).argmin()])))"
   ]
  },
  {
   "cell_type": "markdown",
   "metadata": {
    "hidden": true
   },
   "source": [
    "This agrees with Aristizabal Sierra et al's 5.e6 GeV."
   ]
  },
  {
   "cell_type": "markdown",
   "metadata": {
    "heading_collapsed": true
   },
   "source": [
    "### \u010cKP model (with low-lying 5-plet scalar)"
   ]
  },
  {
   "cell_type": "code",
   "execution_count": null,
   "metadata": {
    "collapsed": false,
    "hidden": true
   },
   "outputs": [],
   "source": [
    "threshs, cRGE = precalcRGE(thresholds=[(400, ComplexScalar(1,5,-2)), (750, ComplexScalar(1,2,1)), (10e3, Weyl(1,5,0,ng)), (5*10e3, RealScalar(1,7,0))])"
   ]
  },
  {
   "cell_type": "code",
   "execution_count": null,
   "metadata": {
    "collapsed": false,
    "hidden": true
   },
   "outputs": [],
   "source": [
    "def func(y, t, twoloop=True):\n",
    "    \"\"\"Derivative of inverse alpha.\n",
    "    d inv_alpha/dt = c0 + c1/inv_alpha\n",
    "    \"\"\"\n",
    "    c0, c1 = cRGE[np.searchsorted(threshs, t)-1]\n",
    "    if twoloop:\n",
    "        return c0 + c1.dot(1/y)\n",
    "    else:\n",
    "        return c0 "
   ]
  },
  {
   "cell_type": "markdown",
   "metadata": {
    "hidden": true
   },
   "source": [
    "#### Two-loop RGE running"
   ]
  },
  {
   "cell_type": "code",
   "execution_count": null,
   "metadata": {
    "collapsed": false,
    "hidden": true
   },
   "outputs": [],
   "source": [
    "mu_max = 2.331e6  # we integrate up to this scale in GeV\n",
    "npts = 1000     # number of integration points\n",
    "ts = np.linspace(0, t(mu_max), npts)"
   ]
  },
  {
   "cell_type": "code",
   "execution_count": null,
   "metadata": {
    "collapsed": false,
    "hidden": true
   },
   "outputs": [],
   "source": [
    "twoloop = True\n",
    "ys = odeint(func, y0, ts, args=(twoloop,)) "
   ]
  },
  {
   "cell_type": "code",
   "execution_count": null,
   "metadata": {
    "collapsed": false,
    "hidden": true
   },
   "outputs": [],
   "source": [
    "rgefig(ts, ys)"
   ]
  },
  {
   "cell_type": "code",
   "execution_count": null,
   "metadata": {
    "collapsed": false,
    "hidden": true
   },
   "outputs": [],
   "source": [
    "print(\"Two-loop pole is at {:.2g} GeV.\".format(mu(ts[abs(ys[:,1]).argmin()])))"
   ]
  },
  {
   "cell_type": "markdown",
   "metadata": {},
   "source": [
    "### \u010cKP model (with low-lying 5-plet and 7-plet scalars)"
   ]
  },
  {
   "cell_type": "code",
   "execution_count": null,
   "metadata": {
    "collapsed": false
   },
   "outputs": [],
   "source": [
    "threshs, cRGE = precalcRGE(thresholds=[(400, [ComplexScalar(1,5,-2), RealScalar(1,7,0)]), (750, ComplexScalar(1,2,1)), (10e3, Weyl(1,5,0,ng))])"
   ]
  },
  {
   "cell_type": "code",
   "execution_count": null,
   "metadata": {
    "collapsed": false
   },
   "outputs": [],
   "source": [
    "def func(y, t, twoloop=True):\n",
    "    \"\"\"Derivative of inverse alpha.\n",
    "    d inv_alpha/dt = c0 + c1/inv_alpha\n",
    "    \"\"\"\n",
    "    c0, c1 = cRGE[np.searchsorted(threshs, t)-1]\n",
    "    if twoloop:\n",
    "        return c0 + c1.dot(1/y)\n",
    "    else:\n",
    "        return c0 "
   ]
  },
  {
   "cell_type": "markdown",
   "metadata": {},
   "source": [
    "#### Two-loop RGE running"
   ]
  },
  {
   "cell_type": "code",
   "execution_count": null,
   "metadata": {
    "collapsed": false
   },
   "outputs": [],
   "source": [
    "mu_max = 7.8e5  # we integrate up to this scale in GeV\n",
    "npts = 1000     # number of integration points\n",
    "ts = np.linspace(0, t(mu_max), npts)"
   ]
  },
  {
   "cell_type": "code",
   "execution_count": null,
   "metadata": {
    "collapsed": false
   },
   "outputs": [],
   "source": [
    "twoloop = True\n",
    "ys = odeint(func, y0, ts, args=(twoloop,)) "
   ]
  },
  {
   "cell_type": "code",
   "execution_count": null,
   "metadata": {
    "collapsed": false
   },
   "outputs": [],
   "source": [
    "rgefig(ts, ys)"
   ]
  },
  {
   "cell_type": "code",
   "execution_count": null,
   "metadata": {
    "collapsed": false
   },
   "outputs": [],
   "source": [
    "print(\"Two-loop pole is at {:.2g} GeV.\".format(mu(ts[abs(ys[:,1]).argmin()])))"
   ]
  },
  {
   "cell_type": "markdown",
   "metadata": {},
   "source": [
    "## Automatic search and plotting"
   ]
  },
  {
   "cell_type": "code",
   "execution_count": null,
   "metadata": {
    "collapsed": false
   },
   "outputs": [],
   "source": [
    "def find_pole(mchi=375, msig=10, mphi=None, mTHD=750, upto=1e10, invpole=1e-4, npts=3000, twoloop=True):\n",
    "    \"\"\"Return Landau pole and  RGE curves for theory.\"\"\"\n",
    "    if not mphi:\n",
    "        mphi = mchi\n",
    "    threshs, cRGE = precalcRGE(thresholds=[(mchi, RealScalar(1,7,0)), (mphi, ComplexScalar(1,5,-2)), (mTHD, ComplexScalar(1,2,1)), (msig*1e3, Weyl(1,5,0,ng))])\n",
    "    def func(y, t):\n",
    "        \"\"\"Derivative of inverse alpha.\n",
    "        d inv_alpha/dt = c0 + c1/inv_alpha\n",
    "        \"\"\"\n",
    "        c0, c1 = cRGE[np.searchsorted(threshs, t)-1]\n",
    "        if twoloop:\n",
    "            return c0 + c1.dot(1/y)\n",
    "        else:\n",
    "            return c0 \n",
    "    ystart = y0\n",
    "    ts = np.linspace(0, t(upto), npts)\n",
    "    while np.any(abs(ystart) > invpole):\n",
    "        ys = odeint(func, y0, ts) \n",
    "        try:\n",
    "            last = np.where(ys<invpole)[0][0]-1   # note that negative will also satisfy here\n",
    "        except IndexError:\n",
    "            break\n",
    "        ystart = ys[last]\n",
    "        ts = np.linspace(ts[last], ts[last+1], npts)\n",
    "    #print(\"Two-loop pole is at {:.2g} GeV.\".format(mu(ts[last])))\n",
    "    pole = mu(ts[last])\n",
    "    ts = np.linspace(0, ts[last], npts)\n",
    "    ys = odeint(func, y0, ts) \n",
    "    return pole #, ts, ys"
   ]
  },
  {
   "cell_type": "markdown",
   "metadata": {},
   "source": [
    "What follows is Fig. 6 from http://arXiv.org/pdf/1603.04723"
   ]
  },
  {
   "cell_type": "code",
   "execution_count": null,
   "metadata": {
    "collapsed": false
   },
   "outputs": [],
   "source": [
    "mrats = np.linspace(1,10, 5)\n",
    "Lpoles = []\n",
    "for mr in mrats:\n",
    "    pole = find_pole(mchi=mr*1e4, mphi=mr*1e4, msig=10e3, mTHD=1e3, upto=1e18, npts=2000)\n",
    "    Lpoles.append(pole/1e6)\n",
    "plt.plot(mrats, Lpoles)\n",
    "plt.annotate(r\"$m_\\Sigma = 10\\, {\\rm TeV}$\", xy=(0.65, 0.28), xycoords='axes fraction', fontsize=16)\n",
    "plt.xlabel(r'$m_{\\chi,\\phi}/m_\\Sigma}$', fontsize=16)\n",
    "fig = plt.ylabel(r\"$\\Lambda_{\\rm Landau} \\; [10^6\\,{\\rm GeV}]$\", fontsize=16)"
   ]
  },
  {
   "cell_type": "code",
   "execution_count": null,
   "metadata": {
    "collapsed": true
   },
   "outputs": [],
   "source": [
    "from math import floor, log10\n",
    "import matplotlib.ticker as ticker"
   ]
  },
  {
   "cell_type": "code",
   "execution_count": null,
   "metadata": {
    "collapsed": true
   },
   "outputs": [],
   "source": [
    "# Define function for string formatting of scientific notation\n",
    "def sci_notation(num, decimal_digits=1, precision=None, exponent=None):\n",
    "    \"\"\"\n",
    "    Returns a string representation of the scientific\n",
    "    notation of the given number formatted for use with\n",
    "    LaTeX or Mathtext, with specified number of significant\n",
    "    decimal digits and precision (number of decimal digits\n",
    "    to show). The exponent to be used can also be specified\n",
    "    explicitly.\n",
    "    \"\"\"\n",
    "    if not exponent:\n",
    "        exponent = int(floor(log10(abs(num))))\n",
    "    coeff = round(num / float(10**exponent), decimal_digits)\n",
    "    if not precision:\n",
    "        precision = decimal_digits\n",
    "\n",
    "    return r\"${0:.{2}f}\\cdot10^{{{1:d}}}$\".format(coeff, exponent, precision)"
   ]
  },
  {
   "cell_type": "code",
   "execution_count": null,
   "metadata": {
    "collapsed": true
   },
   "outputs": [],
   "source": [
    "np_find_pole = np.frompyfunc(find_pole, 2, 1)"
   ]
  },
  {
   "cell_type": "code",
   "execution_count": null,
   "metadata": {
    "collapsed": false
   },
   "outputs": [],
   "source": [
    "%%time\n",
    "resolution = 20  # of calculation grid \n",
    "xs = np.linspace(375, 2000, resolution)\n",
    "ys = np.linspace(0.375, 15, resolution)\n",
    "#levels = [3, 6, 9]\n",
    "X, Y = np.meshgrid(xs, ys)\n",
    "Z = np_find_pole(X, Y)\n",
    "fig, ax = plt.subplots(figsize=(6,6))\n",
    "CS = plt.contour(X, Y, Z, cmap=plt.cm.viridis)\n",
    "#CS = plt.contour(X, Y, Z, locator=plt.Locator(), cmap=plt.cm.viridis)\n",
    "#CS = plt.contour(X, Y, Z, levels, cmap=plt.cm.viridis)\n",
    "plt.clabel(CS, inline=1, fmt=r'$%.3g \\;{\\rm GeV}$', fontsize=12, colors='black')\n",
    "#fig = plt.clabel(CS, inline=1, fmt=r'$%.0g \\;{\\rm GeV}$', fontsize=12, colors='black')\n",
    "#fmt = ticker.LogFormatterMathtext()\n",
    "#fmt.create_dummy_axis()\n",
    "#plt.clabel(CS, CS.levels, fmt=fmt)\n",
    "#x.annotate(r\"$\\tau=\\sigma=\\sigma' = 10$\", xy=(0.65, 0.88), xycoords='axes fraction', fontsize=16)\n",
    "ax.set_xlabel(r'$m_\\chi = m_\\phi \\; {\\rm [GeV]}$', fontsize=16)\n",
    "ax.set_ylabel(r\"$m_\\Sigma \\; {\\rm [TeV]}$\", fontsize=16)\n",
    "#props = dict(color=\"green\", linestyle=\"-.\", linewidth=1)\n",
    "#ax.axvline(x=375, **props)\n",
    "#ax.axhline(y=375, **props)\n",
    "plt.tight_layout()\n",
    "plt.savefig(\"/home/kkumer/landau.pdf\")"
   ]
  },
  {
   "cell_type": "code",
   "execution_count": null,
   "metadata": {
    "collapsed": true
   },
   "outputs": [],
   "source": []
  }
 ],
 "metadata": {
  "kernelspec": {
   "display_name": "Python 3",
   "language": "python",
   "name": "python3"
  },
  "language_info": {
   "codemirror_mode": {
    "name": "ipython",
    "version": 3
   },
   "file_extension": ".py",
   "mimetype": "text/x-python",
   "name": "python",
   "nbconvert_exporter": "python",
   "pygments_lexer": "ipython3",
   "version": "3.5.1"
  },
  "toc": {
   "toc_cell": false,
   "toc_number_sections": true,
   "toc_threshold": 6,
   "toc_window_display": false
  }
 },
 "nbformat": 4,
 "nbformat_minor": 0
}